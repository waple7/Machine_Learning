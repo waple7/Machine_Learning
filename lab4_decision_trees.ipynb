{
  "nbformat": 4,
  "nbformat_minor": 0,
  "metadata": {
    "colab": {
      "provenance": [],
      "toc_visible": true
    },
    "kernelspec": {
      "name": "python3",
      "display_name": "Python 3"
    }
  },
  "cells": [
    {
      "cell_type": "markdown",
      "metadata": {
        "id": "hGClrhQA9SAk"
      },
      "source": [
        "# Деревья решений"
      ]
    },
    {
      "cell_type": "markdown",
      "metadata": {
        "id": "veekMy8WRjBi"
      },
      "source": [
        "## Построение дерева"
      ]
    },
    {
      "cell_type": "markdown",
      "metadata": {
        "id": "SYkVwAFiUHXj"
      },
      "source": [
        "Опишем жадный алгоритм построения бинарного дерева решений:\n",
        "1. Начинаем со всей обучающей выборки $X$, которую помещаем в корень $R_1$.\n",
        "2. Задаём функционал качества $Q(X, j, t)$ и критерий остановки.\n",
        "3. Запускаем построение из корня: $SplitNode(1, R_1)$\n",
        "\n",
        "Функция $SplitNode(m, R_m)$\n",
        "1. Если выполнен критерий остановки, то выход.\n",
        "2. Находим наилучший с точки зрения $Q$ предикат: $j, t$: $[x_j<t]$\n",
        "3. Помещаем предикат в вершину и получаем с его помощью разбиение $X$ на две части: $R_{left} = \\lbrace x|x_j<t \\rbrace$ и $R_{right} = \\lbrace x|x_j \\geqslant t \\rbrace$\n",
        "4. Поместим $R_{left}$ и $R_{right}$ соответсвенно в левое и правое поддерево.\n",
        "5. Рекурсивно повторяем $SplitNode(left, R_{left})$ и $SplitNode(right, R_{right})$.\n",
        "\n",
        "В конце поставим в соответствие каждому листу ответ. Для задачи классификации - это самый частый среди объектов класс или вектор с долями классов (можно интерпретировать как вероятности):\n",
        "$$ c_v = \\arg \\max_{k\\in Y} \\sum_{(x_i,y_i) \\in R_v} [y_i=k]  $$"
      ]
    },
    {
      "cell_type": "markdown",
      "metadata": {
        "id": "9P6FsdBog4Ai"
      },
      "source": [
        "## Функционал качества для деревьев решений\n"
      ]
    },
    {
      "cell_type": "markdown",
      "metadata": {
        "id": "9VAKO0aykGBD"
      },
      "source": [
        "Энтропия Шеннона для системы с N возможными состояниями определяется по формуле:\n",
        "$$H = - \\sum_{i=0}^{N} p_i\\log_2p_i $$"
      ]
    },
    {
      "cell_type": "markdown",
      "metadata": {
        "id": "5582B-1Fn2bw"
      },
      "source": [
        "где $p_i$ – вероятности нахождения системы в $i$-ом состоянии.\n",
        "\n",
        "Это очень важное понятие теории информации, которое позволяет оценить количество информации (степень хаоса в системе). Чем выше энтропия, тем менее упорядочена система и наоборот. С помощью энтропии мы формализуем функционал качества для разделение выборки (для задачи классификации)."
      ]
    },
    {
      "cell_type": "code",
      "metadata": {
        "id": "PbcMUd7bvk05"
      },
      "source": [
        "import numpy as np\n",
        "import pandas as pd\n",
        "\n",
        "import matplotlib.pyplot as plt\n",
        "\n",
        "import random\n",
        "from pprint import pprint"
      ],
      "execution_count": null,
      "outputs": []
    },
    {
      "cell_type": "markdown",
      "metadata": {
        "id": "4AdLxP9CowTm"
      },
      "source": [
        "Код для расчёта энтропии:"
      ]
    },
    {
      "cell_type": "code",
      "metadata": {
        "id": "2mT8Jq8Av2sM"
      },
      "source": [
        "def entropy(y):\n",
        "\n",
        "    _, counts = np.unique(y, return_counts=True)\n",
        "\n",
        "    probabilities = counts / counts.sum()\n",
        "    entropy = sum(probabilities * -np.log2(probabilities))\n",
        "\n",
        "    return entropy"
      ],
      "execution_count": null,
      "outputs": []
    },
    {
      "cell_type": "markdown",
      "metadata": {
        "id": "Xk9etb2vo7fK"
      },
      "source": [
        "Здесь $y$ - это массив значений целевой переменной"
      ]
    },
    {
      "cell_type": "markdown",
      "metadata": {
        "id": "07TCw0USzLus"
      },
      "source": [
        "Энтропия – по сути степень хаоса (или неопределенности) в системе. Уменьшение энтропии называют приростом информации (information gain, IG).\n",
        "\n",
        "Обочначим $R_v$ - объекты, которые нужно разделить в помощью предиката в вершине $v$. Запишем формулу для расчёта информационного прироста:\n",
        "$$ Q = IG = H(R_v) - (H(R_{left})+H(R_{right}))$$\n",
        "\n",
        "На каждом шаге нам нужно максимизировать этот функционал качества. Как это делать? Например, так можно перебрать $t$ для выбранного $j$."
      ]
    },
    {
      "cell_type": "markdown",
      "metadata": {
        "id": "trEWHDoXg_p9"
      },
      "source": [
        "Предыдущая версия формулы прироста информации слишком упрощена. В работе необходимо использовать более устойчивую формулу, которая учитывает не только энтропию подмножеств, но и их размер.\n",
        "\n",
        "$$ Q = IG = H(R_v) - \\Big (\\frac{|R_{left}|} {|R_{v}|} H(R_{left})+ \\frac{|R_{right}|} {|R_{v}|} H(R_{right})\\Big)$$\n",
        "\n",
        "где, $|R_{v}|$, $|R_{left}|$ и $|R_{right}|$ - количество элементов в соответствующих множествах."
      ]
    },
    {
      "cell_type": "markdown",
      "metadata": {
        "id": "9xmN6V_N1xBr"
      },
      "source": [
        "\n",
        "### Задание 4.1"
      ]
    },
    {
      "cell_type": "markdown",
      "metadata": {
        "id": "nWFHZScF2CBF"
      },
      "source": [
        "Реализуйте алгоритм построения дерева. Должны быть отдельные функции (методы) для расчёта энтропии (уже есть), для разделения узлов дерева (используйте, например, `pandas`), для подсчёта функционала качества $IG$, для выбора наилучшего разделения (с учетом признаков и порогов), для проверки критерия остановки.\n",
        "\n",
        "Для набора данных `iris` реализуйте алгоритм и минимум три разных критерия остановки из перечисленных ниже:\n",
        "* максимальной глубины дерева = 5\n",
        "* минимального числа объектов в листе = 5\n",
        "* максимальное количество листьев в дереве = 5\n",
        "* purity (остановка, если все объекты в листе относятся к одному классу)\n",
        "\n",
        "Реализуйте функцию `predict` (на вход функции подаётся датафрейм с объектами)\n",
        "\n",
        "Оцените точность каждой модели с помощью метрики доля правильных ответов (`from sklearn.metrics import accuracy_score` или реализовать свою)."
      ]
    },
    {
      "cell_type": "code",
      "source": [
        "from sklearn.metrics import accuracy_score\n",
        "from sklearn.model_selection import train_test_split\n",
        "from sklearn import datasets\n",
        "iris = datasets.load_iris()\n",
        "class Tree:\n",
        "    def __init__(self, depth, max_depth,max_leaves,min_objects_leaf):\n",
        "        self.depth = depth\n",
        "        self.max_depth = max_depth\n",
        "        self.left = None\n",
        "        self.right = None\n",
        "        self.min_objects_leaf = min_objects_leaf\n",
        "        self.max_leaves = max_leaves\n",
        "        self.feature = None\n",
        "        self.class_predict = None\n",
        "        self.threshold = None\n",
        "        self.is_leaf = False\n",
        "\n",
        "    def best_split(self, X, y):\n",
        "        best_feature = None\n",
        "        best_threshold = None\n",
        "        best_score = -999\n",
        "\n",
        "        for features in range(len(X.columns)):\n",
        "            unique_values = np.unique(X.iloc[:, features])\n",
        "\n",
        "            for value in unique_values:\n",
        "                left = X.loc[X.iloc[:, features] < value]\n",
        "                right = X.loc[X.iloc[:, features] >= value]\n",
        "\n",
        "                IG = self.information_gain(left, right, y)\n",
        "\n",
        "                if IG > best_score:\n",
        "                    best_feature = features\n",
        "                    best_threshold = value\n",
        "                    best_score = IG\n",
        "\n",
        "        return best_feature, best_threshold\n",
        "\n",
        "    def information_gain(self, left, right, y):\n",
        "        m = len(y)\n",
        "\n",
        "        H_Rv = entropy(y)\n",
        "        H_Rl = entropy(y.loc[left.index])\n",
        "        H_Rr = entropy(y.loc[right.index])\n",
        "\n",
        "        IG = H_Rv - (len(y.loc[left.index]) / m) * H_Rl - (len(y.loc[right.index]) / m) * H_Rr\n",
        "\n",
        "        return IG\n",
        "\n",
        "    def split(self, X, y):\n",
        "        if self.depth >= self.max_depth or len(y) <= self.min_objects_leaf or self.max_leaves == 0 or len(y.unique()) == 1:\n",
        "            self.is_leaf = True\n",
        "            self.class_predict = y.mode()[0]\n",
        "            return\n",
        "\n",
        "        best_feature, best_threshold = self.best_split(X, y)\n",
        "\n",
        "        if best_feature is not None:\n",
        "            self.feature = best_feature\n",
        "            self.threshold = best_threshold\n",
        "\n",
        "            left = X.loc[X.iloc[:, best_feature] < best_threshold]\n",
        "            right = X.loc[X.iloc[:, best_feature] >= best_threshold]\n",
        "\n",
        "            self.update_tree()\n",
        "\n",
        "            self.left.split(left, y.loc[left.index])\n",
        "            self.right.split(right, y.loc[right.index])\n",
        "\n",
        "    def update_tree(self):\n",
        "        self.left = Tree(self.depth + 1, self.max_depth, self.max_leaves - 1, self.min_objects_leaf)\n",
        "        self.right = Tree(self.depth + 1, self.max_depth, self.max_leaves - 1, self.min_objects_leaf)\n",
        "\n",
        "    def fit(self, X, y):\n",
        "        self.split(pd.DataFrame(X), pd.Series(y))\n",
        "\n",
        "\n",
        "def predict(node, X):\n",
        "    if node.is_leaf:\n",
        "        return node.class_predict\n",
        "\n",
        "    if X[node.feature] < node.threshold:\n",
        "        return predict(node.left, X)\n",
        "    else:\n",
        "        return predict(node.right, X)\n",
        "\n",
        "iris = datasets.load_iris()\n",
        "X_train, X_test, y_train, y_test = train_test_split(iris.data, iris.target, test_size=0.33, random_state=42)\n",
        "\n",
        "tree = Tree(0, max_depth=5,max_leaves=5,min_objects_leaf=5)\n",
        "tree.fit(X_train, y_train)\n",
        "\n",
        "y_pred = [predict(tree, X) for X in X_test]\n",
        "\n",
        "accuracy_sc = accuracy_score(y_test, y_pred)\n",
        "print(\"Accuracy:\" , accuracy_sc)"
      ],
      "metadata": {
        "colab": {
          "base_uri": "https://localhost:8080/"
        },
        "id": "PrKyvt0XfnCd",
        "outputId": "ce0d4039-ba38-4a55-8787-2f095bd38055"
      },
      "execution_count": null,
      "outputs": [
        {
          "output_type": "stream",
          "name": "stdout",
          "text": [
            "Accuracy: 0.96\n"
          ]
        }
      ]
    },
    {
      "cell_type": "code",
      "source": [
        "import pandas as pd"
      ],
      "metadata": {
        "id": "vfHcv4iVDkLs"
      },
      "execution_count": null,
      "outputs": []
    },
    {
      "cell_type": "code",
      "source": [
        "y=pd.Series([0,0,0,1,1,2])"
      ],
      "metadata": {
        "id": "rLj14AUuDsaH"
      },
      "execution_count": null,
      "outputs": []
    },
    {
      "cell_type": "code",
      "source": [
        "y.mode()"
      ],
      "metadata": {
        "colab": {
          "base_uri": "https://localhost:8080/"
        },
        "id": "uS7eF2a9EKkz",
        "outputId": "a25c4839-db80-457d-adca-c91d7ef344e3"
      },
      "execution_count": null,
      "outputs": [
        {
          "output_type": "execute_result",
          "data": {
            "text/plain": [
              "0    0\n",
              "dtype: int64"
            ]
          },
          "metadata": {},
          "execution_count": 6
        }
      ]
    },
    {
      "cell_type": "code",
      "source": [
        "plt.scatter(X_test[:, 2], X_test[:, 3], c=y_pred, cmap=plt.cm.Dark2)\n",
        "plt.title('Petal plot')\n",
        "plt.xlabel('petal length')\n",
        "plt.ylabel('petal width')\n",
        "plt.show()"
      ],
      "metadata": {
        "colab": {
          "base_uri": "https://localhost:8080/",
          "height": 472
        },
        "id": "9A80f4uvfwtj",
        "outputId": "3d42cfeb-5ac8-4a06-ea82-d6ebc536d99a"
      },
      "execution_count": null,
      "outputs": [
        {
          "output_type": "display_data",
          "data": {
            "text/plain": [
              "<Figure size 640x480 with 1 Axes>"
            ],
            "image/png": "[encoded data removed]"
          },
          "metadata": {}
        }
      ]
    },
    {
      "cell_type": "markdown",
      "metadata": {
        "id": "BkyCjLcy_CTM"
      },
      "source": [
        "##  Случайный лес"
      ]
    },
    {
      "cell_type": "markdown",
      "metadata": {
        "id": "7fKZe1FyRgCa"
      },
      "source": [
        "Опишем алгоритм случайный лес (*random forest*) и попутно разберём основные идеи:\n",
        "\n",
        "1. Зададим $N$ - число деревьев в лесу.\n",
        "2. Для каждого $n$ из $N$ сгенерируем свою выборку $X_n$. Пусть $m$ - это количество объектов в $X$. При генерации каждой $X_n$ мы будем брать объекты $m$ раз с возвращением. То есть один и тот же объект может попасть в выборку несколько раз, а какие-то объекты не попадут. (Этот способ назвается бутстрап).\n",
        "3. По каждой $X_n$ построим решающее дерево $b_n$. Обычно стараются делать глубокие деревья. В качестве критериев остановки можно использовать `max_depth` или `min_samples_leaf` (например, пока в каждом листе не окажется по одному объекту). При каждом разбиении сначала выбирается $k$ (эвристика $k = \\sqrt d$, где $d$ - это число признаков объектов из выборки $X$) случайных признаков из исходных, и оптимальное разделение выборки ищется только среди них. Обратите внимание, что мы не выбрасываем оставшиеся признаки!\n",
        "4. Итоговый алгоритм будет представлять собой результат голосования (для классификации) и среднее арифметическое (для регрессии). Модификация алгоритма предполагает учёт весов каждого отдельного слабого алгоритма в ансамбле, но в этом особо нет смысла.\n"
      ]
    },
    {
      "cell_type": "markdown",
      "metadata": {
        "id": "YJBQ8lc0WyrN"
      },
      "source": [
        "### Задание 4.2"
      ]
    },
    {
      "cell_type": "markdown",
      "metadata": {
        "id": "y594Jn04ZTCm"
      },
      "source": [
        "В качестве набора данных используйте: https://www.kaggle.com/mathchi/churn-for-bank-customers\n",
        "\n",
        "Там есть описание и примеры работы с этими данными. Если кратко, речь идёт про задачу прогнозирования оттока клиентов. Есть данные о 10 тысячах клиентов банка, часть из которых больше не являются клиентами."
      ]
    },
    {
      "cell_type": "markdown",
      "metadata": {
        "id": "be_mLbdVW2oG"
      },
      "source": [
        "Используя либо свою реализацию, либо  `DecisionTreeClassifier` с разными настройками из `sklearn.tree` реализйте алгоритм \"случайный лес\".\n",
        "\n",
        "Найдите наилучшие гиперпараметры этого алгоритма: количество деревьев, критерий остановки, функционал качества, минимальное количество объектов в листьях и другие.\n",
        "\n",
        "Нельзя использовать готовую реализацию случайного леса из `sklearn`.\n",
        "\n",
        "В подобных задачах очень важна интерпретируемость алгоритма. Попытайтесь оценить информативность признаков, т.е. ответить а вопрос, значения каких признаков являются самыми важными индикаторами того, что банк потеряет клиента."
      ]
    },
    {
      "cell_type": "code",
      "source": [
        "!gdown 1d-WeljXH8WMBdeKTqiP7e_fSpgLxa-z4"
      ],
      "metadata": {
        "colab": {
          "base_uri": "https://localhost:8080/"
        },
        "id": "BPNh0qPMfuaS",
        "outputId": "94de8941-bc66-4b69-c8e7-ea9b9df17851"
      },
      "execution_count": null,
      "outputs": [
        {
          "output_type": "stream",
          "name": "stdout",
          "text": [
            "Downloading...\n",
            "From: https://drive.google.com/uc?id=1d-WeljXH8WMBdeKTqiP7e_fSpgLxa-z4\n",
            "To: /content/churn.csv\n",
            "\r  0% 0.00/685k [00:00<?, ?B/s]\r100% 685k/685k [00:00<00:00, 8.59MB/s]\n"
          ]
        }
      ]
    },
    {
      "cell_type": "code",
      "source": [
        "import pandas as pd\n",
        "import numpy as np\n",
        "from sklearn.model_selection import train_test_split\n",
        "from sklearn.tree import DecisionTreeClassifier\n",
        "from sklearn.preprocessing import LabelEncoder\n",
        "label_encoder = LabelEncoder()\n",
        "\n",
        "data=pd.read_csv(filepath_or_buffer = \"churn.csv\",\n",
        "           sep = ',')\n",
        "data['Geography'] = label_encoder.fit_transform(data['Geography'])\n",
        "data['Gender'] = label_encoder.fit_transform(data['Gender'])\n",
        "X = data[['CreditScore', 'Geography', 'Gender', 'Age', 'Tenure', 'Balance',\n",
        "          'NumOfProducts', 'HasCrCard', 'IsActiveMember', 'EstimatedSalary']]\n",
        "y = data['Exited']\n",
        "X_train, X_test, y_train, y_test = train_test_split(X, y, test_size=0.2, random_state=42)"
      ],
      "metadata": {
        "id": "vS49o6qOf3k-"
      },
      "execution_count": null,
      "outputs": []
    },
    {
      "cell_type": "code",
      "source": [
        "import pandas as pd\n",
        "import numpy as np\n",
        "from sklearn.model_selection import train_test_split\n",
        "from sklearn.tree import DecisionTreeClassifier\n",
        "\n",
        "def class_predict(trees, X):\n",
        "    predictions = np.array([tree.predict(X) for tree in trees])\n",
        "    return np.mean(predictions, axis=0)\n",
        "\n",
        "def bootstrap_objects(X, y):\n",
        "    index = np.random.choice(len(X), len(X), replace=True)\n",
        "    return X.iloc[index], y.iloc[index]\n",
        "\n",
        "def build_tree(X, y, max_depth=None, min_objects_leaf=1):\n",
        "    tree = DecisionTreeClassifier(max_depth=max_depth, min_samples_leaf=min_objects_leaf)\n",
        "    tree.fit(X, y)\n",
        "    return tree\n",
        "\n",
        "\n",
        "def random_forest(X, y, count_trees, max_depth=None, min_objects_leaf=None):\n",
        "    trees = []\n",
        "    for _ in range(count_trees):\n",
        "        X_object, y_object = bootstrap_objects(X, y)\n",
        "        tree = build_tree(X_object, y_object, max_depth=max_depth, min_objects_leaf=min_objects_leaf)\n",
        "        trees.append(tree)\n",
        "    return trees\n",
        "\n",
        "\n",
        "count_trees = 100\n",
        "max_depth = 5\n",
        "min_objects_leaf = 5\n",
        "\n",
        "forest = random_forest(X_train, y_train, count_trees=count_trees, max_depth=max_depth, min_objects_leaf=min_objects_leaf)\n",
        "\n",
        "\n",
        "y_pred_test = class_predict(forest, X_test)\n",
        "accuracy_test = (y_pred_test == y_test).mean()\n",
        "print(\"Точность test:\", accuracy_test)\n",
        "print(y_pred_test)\n",
        "\n",
        "feature_importances = np.mean([tree.feature_importances_ for tree in forest], axis=0)\n",
        "f_importance = pd.Series(feature_importances, index=X.columns)\n",
        "print(f_importance)"
      ],
      "metadata": {
        "colab": {
          "base_uri": "https://localhost:8080/"
        },
        "id": "XS-6dWrpf7er",
        "outputId": "4f59a806-e635-49ca-8deb-14b87797c89c"
      },
      "execution_count": null,
      "outputs": [
        {
          "output_type": "stream",
          "name": "stdout",
          "text": [
            "Точность test: 0.7115\n",
            "[0.   0.   0.   ... 0.91 0.   0.  ]\n",
            "CreditScore        0.006465\n",
            "Geography          0.006611\n",
            "Gender             0.002421\n",
            "Age                0.447042\n",
            "Tenure             0.003273\n",
            "Balance            0.035179\n",
            "NumOfProducts      0.333808\n",
            "HasCrCard          0.000104\n",
            "IsActiveMember     0.153611\n",
            "EstimatedSalary    0.011487\n",
            "dtype: float64\n"
          ]
        }
      ]
    },
    {
      "cell_type": "code",
      "source": [
        "max_depth_range = [2, 5, 10]\n",
        "count_trees_range = [50, 100, 200]\n",
        "min_objects_leaf_range = [1, 5, 10]\n",
        "\n",
        "best_accuracy = 0\n",
        "best_max_depth = None\n",
        "best_count_trees = None\n",
        "best_min_objects_leaf = None\n",
        "\n",
        "\n",
        "for max_depth in max_depth_range:\n",
        "    for count_trees in count_trees_range:\n",
        "        for min_objects_leaf in min_objects_leaf_range:\n",
        "            forest = random_forest(X_train, y_train, count_trees=count_trees, max_depth=max_depth, min_objects_leaf=min_objects_leaf)\n",
        "            y_pred_test = class_predict(forest, X_test)\n",
        "            accuracy_test = (y_pred_test == y_test).mean()\n",
        "\n",
        "            print(f\"max_depth: {max_depth}, count_trees: {count_trees}, min_objects_leaf: {min_objects_leaf}, Accuracy: {accuracy_test}\")\n",
        "\n",
        "            if accuracy_test > best_accuracy:\n",
        "                best_accuracy = accuracy_test\n",
        "                best_max_depth = max_depth\n",
        "                best_count_trees = count_trees\n",
        "                best_min_objects_leaf = min_objects_leaf\n",
        "\n",
        "print(f\"Best parametrs: max_depth = {best_max_depth}, count_trees = {best_count_trees}, min_objects_leaf = {best_min_objects_leaf}\")\n"
      ],
      "metadata": {
        "colab": {
          "base_uri": "https://localhost:8080/"
        },
        "id": "mB2Vnufcf83r",
        "outputId": "b7a0eea0-1dfb-4d45-9000-a8c14a5a3b75"
      },
      "execution_count": null,
      "outputs": [
        {
          "output_type": "stream",
          "name": "stdout",
          "text": [
            "max_depth: 2, count_trees: 50, min_objects_leaf: 1, Accuracy: 0.7225\n",
            "max_depth: 2, count_trees: 50, min_objects_leaf: 5, Accuracy: 0.7535\n",
            "max_depth: 2, count_trees: 50, min_objects_leaf: 10, Accuracy: 0.7535\n",
            "max_depth: 2, count_trees: 100, min_objects_leaf: 1, Accuracy: 0.7535\n",
            "max_depth: 2, count_trees: 100, min_objects_leaf: 5, Accuracy: 0.7535\n",
            "max_depth: 2, count_trees: 100, min_objects_leaf: 10, Accuracy: 0.7535\n",
            "max_depth: 2, count_trees: 200, min_objects_leaf: 1, Accuracy: 0.753\n",
            "max_depth: 2, count_trees: 200, min_objects_leaf: 5, Accuracy: 0.6815\n",
            "max_depth: 2, count_trees: 200, min_objects_leaf: 10, Accuracy: 0.7535\n",
            "max_depth: 5, count_trees: 50, min_objects_leaf: 1, Accuracy: 0.741\n",
            "max_depth: 5, count_trees: 50, min_objects_leaf: 5, Accuracy: 0.7355\n",
            "max_depth: 5, count_trees: 50, min_objects_leaf: 10, Accuracy: 0.7335\n",
            "max_depth: 5, count_trees: 100, min_objects_leaf: 1, Accuracy: 0.7315\n",
            "max_depth: 5, count_trees: 100, min_objects_leaf: 5, Accuracy: 0.724\n",
            "max_depth: 5, count_trees: 100, min_objects_leaf: 10, Accuracy: 0.7175\n",
            "max_depth: 5, count_trees: 200, min_objects_leaf: 1, Accuracy: 0.693\n",
            "max_depth: 5, count_trees: 200, min_objects_leaf: 5, Accuracy: 0.7065\n",
            "max_depth: 5, count_trees: 200, min_objects_leaf: 10, Accuracy: 0.7005\n",
            "max_depth: 10, count_trees: 50, min_objects_leaf: 1, Accuracy: 0.348\n",
            "max_depth: 10, count_trees: 50, min_objects_leaf: 5, Accuracy: 0.354\n",
            "max_depth: 10, count_trees: 50, min_objects_leaf: 10, Accuracy: 0.4045\n",
            "max_depth: 10, count_trees: 100, min_objects_leaf: 1, Accuracy: 0.2835\n",
            "max_depth: 10, count_trees: 100, min_objects_leaf: 5, Accuracy: 0.252\n",
            "max_depth: 10, count_trees: 100, min_objects_leaf: 10, Accuracy: 0.2955\n",
            "max_depth: 10, count_trees: 200, min_objects_leaf: 1, Accuracy: 0.2065\n",
            "max_depth: 10, count_trees: 200, min_objects_leaf: 5, Accuracy: 0.202\n",
            "max_depth: 10, count_trees: 200, min_objects_leaf: 10, Accuracy: 0.2345\n",
            "Best parametrs: max_depth = 2, count_trees = 50, min_objects_leaf = 5\n"
          ]
        }
      ]
    }
  ]
}