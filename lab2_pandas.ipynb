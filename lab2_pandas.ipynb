{
  "nbformat": 4,
  "nbformat_minor": 0,
  "metadata": {
    "hide_input": false,
    "kernelspec": {
      "display_name": "Python 3",
      "language": "python",
      "name": "python3"
    },
    "language_info": {
      "codemirror_mode": {
        "name": "ipython",
        "version": 3
      },
      "file_extension": ".py",
      "mimetype": "text/x-python",
      "name": "python",
      "nbconvert_exporter": "python",
      "pygments_lexer": "ipython3",
      "version": "3.7.1"
    },
    "toc": {
      "base_numbering": 1,
      "nav_menu": {},
      "number_sections": true,
      "sideBar": true,
      "skip_h1_title": false,
      "title_cell": "Table of Contents",
      "title_sidebar": "Contents",
      "toc_cell": true,
      "toc_position": {},
      "toc_section_display": true,
      "toc_window_display": false
    },
    "varInspector": {
      "cols": {
        "lenName": 16,
        "lenType": 16,
        "lenVar": 40
      },
      "kernels_config": {
        "python": {
          "delete_cmd_postfix": "",
          "delete_cmd_prefix": "del ",
          "library": "var_list.py",
          "varRefreshCmd": "print(var_dic_list())"
        },
        "r": {
          "delete_cmd_postfix": ") ",
          "delete_cmd_prefix": "rm(",
          "library": "var_list.r",
          "varRefreshCmd": "cat(var_dic_list()) "
        }
      },
      "types_to_exclude": [
        "module",
        "function",
        "builtin_function_or_method",
        "instance",
        "_Feature"
      ],
      "window_display": false
    },
    "colab": {
      "provenance": []
    }
  },
  "cells": [
    {
      "cell_type": "code",
      "metadata": {
        "ExecuteTime": {
          "end_time": "2020-04-23T10:16:05.965275Z",
          "start_time": "2020-04-23T10:16:05.312704Z"
        },
        "id": "bZ7J0si68JdT"
      },
      "source": [
        "import pandas as pd\n",
        "import numpy as np"
      ],
      "execution_count": null,
      "outputs": []
    },
    {
      "cell_type": "markdown",
      "metadata": {
        "id": "xjvL0IIG8Jd0"
      },
      "source": [
        "## Задание 0\n"
      ]
    },
    {
      "cell_type": "code",
      "source": [
        "!gdown 12Lp82xYOYJUSh5q4FPh14eNldBfAYwwK"
      ],
      "metadata": {
        "colab": {
          "base_uri": "https://localhost:8080/"
        },
        "id": "AqTNM0ju3iEt",
        "outputId": "ef9280f8-1c04-4809-fa7a-6f8375622a4d"
      },
      "execution_count": null,
      "outputs": [
        {
          "output_type": "stream",
          "name": "stdout",
          "text": [
            "Downloading...\n",
            "From: https://drive.google.com/uc?id=12Lp82xYOYJUSh5q4FPh14eNldBfAYwwK\n",
            "To: /content/transactions.csv\n",
            "100% 314M/314M [00:03<00:00, 84.6MB/s]\n"
          ]
        }
      ]
    },
    {
      "cell_type": "code",
      "source": [
        "transactions=pd.read_csv(filepath_or_buffer = \"transactions.csv\",\n",
        "           sep = ',',nrows=1000000)\n",
        "transactions"
      ],
      "metadata": {
        "colab": {
          "base_uri": "https://localhost:8080/",
          "height": 424
        },
        "id": "NCKvf_073_xD",
        "outputId": "b7b9bb8d-0720-416c-cae4-5ea628be9382"
      },
      "execution_count": null,
      "outputs": [
        {
          "output_type": "execute_result",
          "data": {
            "text/plain": [
              "        customer_id   tr_datetime  mcc_code  tr_type    amount   term_id\n",
              "0          39026145    0 10:23:26      4814     1030  -2245.92       NaN\n",
              "1          39026145    1 10:19:29      6011     7010  56147.89       NaN\n",
              "2          39026145    1 10:20:56      4829     2330 -56147.89       NaN\n",
              "3          39026145    1 10:39:54      5499     1010  -1392.47       NaN\n",
              "4          39026145    2 15:33:42      5499     1010   -920.83       NaN\n",
              "...             ...           ...       ...      ...       ...       ...\n",
              "999995     98801178  269 10:29:06      5921     1010 -23016.59    127873\n",
              "999996     98801178  270 10:26:45      5211     1010 -61380.88  10114209\n",
              "999997     98801178  270 15:18:53      5921     1010 -11800.27  10105341\n",
              "999998     98801178  271 12:47:13      5211     1010 -16170.59  10114209\n",
              "999999     98801178  271 14:51:56      5921     1010 -10025.77    123991\n",
              "\n",
              "[1000000 rows x 6 columns]"
            ],
            "text/html": [
              "\n",
              "  <div id=\"df-67196136-7f06-4039-91b4-2ddc8063dbef\" class=\"colab-df-container\">\n",
              "    <div>\n",
              "<style scoped>\n",
              "    .dataframe tbody tr th:only-of-type {\n",
              "        vertical-align: middle;\n",
              "    }\n",
              "\n",
              "    .dataframe tbody tr th {\n",
              "        vertical-align: top;\n",
              "    }\n",
              "\n",
              "    .dataframe thead th {\n",
              "        text-align: right;\n",
              "    }\n",
              "</style>\n",
              "<table border=\"1\" class=\"dataframe\">\n",
              "  <thead>\n",
              "    <tr style=\"text-align: right;\">\n",
              "      <th></th>\n",
              "      <th>customer_id</th>\n",
              "      <th>tr_datetime</th>\n",
              "      <th>mcc_code</th>\n",
              "      <th>tr_type</th>\n",
              "      <th>amount</th>\n",
              "      <th>term_id</th>\n",
              "    </tr>\n",
              "  </thead>\n",
              "  <tbody>\n",
              "    <tr>\n",
              "      <th>0</th>\n",
              "      <td>39026145</td>\n",
              "      <td>0 10:23:26</td>\n",
              "      <td>4814</td>\n",
              "      <td>1030</td>\n",
              "      <td>-2245.92</td>\n",
              "      <td>NaN</td>\n",
              "    </tr>\n",
              "    <tr>\n",
              "      <th>1</th>\n",
              "      <td>39026145</td>\n",
              "      <td>1 10:19:29</td>\n",
              "      <td>6011</td>\n",
              "      <td>7010</td>\n",
              "      <td>56147.89</td>\n",
              "      <td>NaN</td>\n",
              "    </tr>\n",
              "    <tr>\n",
              "      <th>2</th>\n",
              "      <td>39026145</td>\n",
              "      <td>1 10:20:56</td>\n",
              "      <td>4829</td>\n",
              "      <td>2330</td>\n",
              "      <td>-56147.89</td>\n",
              "      <td>NaN</td>\n",
              "    </tr>\n",
              "    <tr>\n",
              "      <th>3</th>\n",
              "      <td>39026145</td>\n",
              "      <td>1 10:39:54</td>\n",
              "      <td>5499</td>\n",
              "      <td>1010</td>\n",
              "      <td>-1392.47</td>\n",
              "      <td>NaN</td>\n",
              "    </tr>\n",
              "    <tr>\n",
              "      <th>4</th>\n",
              "      <td>39026145</td>\n",
              "      <td>2 15:33:42</td>\n",
              "      <td>5499</td>\n",
              "      <td>1010</td>\n",
              "      <td>-920.83</td>\n",
              "      <td>NaN</td>\n",
              "    </tr>\n",
              "    <tr>\n",
              "      <th>...</th>\n",
              "      <td>...</td>\n",
              "      <td>...</td>\n",
              "      <td>...</td>\n",
              "      <td>...</td>\n",
              "      <td>...</td>\n",
              "      <td>...</td>\n",
              "    </tr>\n",
              "    <tr>\n",
              "      <th>999995</th>\n",
              "      <td>98801178</td>\n",
              "      <td>269 10:29:06</td>\n",
              "      <td>5921</td>\n",
              "      <td>1010</td>\n",
              "      <td>-23016.59</td>\n",
              "      <td>127873</td>\n",
              "    </tr>\n",
              "    <tr>\n",
              "      <th>999996</th>\n",
              "      <td>98801178</td>\n",
              "      <td>270 10:26:45</td>\n",
              "      <td>5211</td>\n",
              "      <td>1010</td>\n",
              "      <td>-61380.88</td>\n",
              "      <td>10114209</td>\n",
              "    </tr>\n",
              "    <tr>\n",
              "      <th>999997</th>\n",
              "      <td>98801178</td>\n",
              "      <td>270 15:18:53</td>\n",
              "      <td>5921</td>\n",
              "      <td>1010</td>\n",
              "      <td>-11800.27</td>\n",
              "      <td>10105341</td>\n",
              "    </tr>\n",
              "    <tr>\n",
              "      <th>999998</th>\n",
              "      <td>98801178</td>\n",
              "      <td>271 12:47:13</td>\n",
              "      <td>5211</td>\n",
              "      <td>1010</td>\n",
              "      <td>-16170.59</td>\n",
              "      <td>10114209</td>\n",
              "    </tr>\n",
              "    <tr>\n",
              "      <th>999999</th>\n",
              "      <td>98801178</td>\n",
              "      <td>271 14:51:56</td>\n",
              "      <td>5921</td>\n",
              "      <td>1010</td>\n",
              "      <td>-10025.77</td>\n",
              "      <td>123991</td>\n",
              "    </tr>\n",
              "  </tbody>\n",
              "</table>\n",
              "<p>1000000 rows × 6 columns</p>\n",
              "</div>\n",
              "    <div class=\"colab-df-buttons\">\n",
              "\n",
              "  <div class=\"colab-df-container\">\n",
              "    <button class=\"colab-df-convert\" onclick=\"convertToInteractive('df-67196136-7f06-4039-91b4-2ddc8063dbef')\"\n",
              "            title=\"Convert this dataframe to an interactive table.\"\n",
              "            style=\"display:none;\">\n",
              "\n",
              "  <svg xmlns=\"http://www.w3.org/2000/svg\" height=\"24px\" viewBox=\"0 -960 960 960\">\n",
              "    <path d=\"M120-120v-720h720v720H120Zm60-500h600v-160H180v160Zm220 220h160v-160H400v160Zm0 220h160v-160H400v160ZM180-400h160v-160H180v160Zm440 0h160v-160H620v160ZM180-180h160v-160H180v160Zm440 0h160v-160H620v160Z\"/>\n",
              "  </svg>\n",
              "    </button>\n",
              "\n",
              "  <style>\n",
              "    .colab-df-container {\n",
              "      display:flex;\n",
              "      gap: 12px;\n",
              "    }\n",
              "\n",
              "    .colab-df-convert {\n",
              "      background-color: #E8F0FE;\n",
              "      border: none;\n",
              "      border-radius: 50%;\n",
              "      cursor: pointer;\n",
              "      display: none;\n",
              "      fill: #1967D2;\n",
              "      height: 32px;\n",
              "      padding: 0 0 0 0;\n",
              "      width: 32px;\n",
              "    }\n",
              "\n",
              "    .colab-df-convert:hover {\n",
              "      background-color: #E2EBFA;\n",
              "      box-shadow: 0px 1px 2px rgba(60, 64, 67, 0.3), 0px 1px 3px 1px rgba(60, 64, 67, 0.15);\n",
              "      fill: #174EA6;\n",
              "    }\n",
              "\n",
              "    .colab-df-buttons div {\n",
              "      margin-bottom: 4px;\n",
              "    }\n",
              "\n",
              "    [theme=dark] .colab-df-convert {\n",
              "      background-color: #3B4455;\n",
              "      fill: #D2E3FC;\n",
              "    }\n",
              "\n",
              "    [theme=dark] .colab-df-convert:hover {\n",
              "      background-color: #434B5C;\n",
              "      box-shadow: 0px 1px 3px 1px rgba(0, 0, 0, 0.15);\n",
              "      filter: drop-shadow(0px 1px 2px rgba(0, 0, 0, 0.3));\n",
              "      fill: #FFFFFF;\n",
              "    }\n",
              "  </style>\n",
              "\n",
              "    <script>\n",
              "      const buttonEl =\n",
              "        document.querySelector('#df-67196136-7f06-4039-91b4-2ddc8063dbef button.colab-df-convert');\n",
              "      buttonEl.style.display =\n",
              "        google.colab.kernel.accessAllowed ? 'block' : 'none';\n",
              "\n",
              "      async function convertToInteractive(key) {\n",
              "        const element = document.querySelector('#df-67196136-7f06-4039-91b4-2ddc8063dbef');\n",
              "        const dataTable =\n",
              "          await google.colab.kernel.invokeFunction('convertToInteractive',\n",
              "                                                    [key], {});\n",
              "        if (!dataTable) return;\n",
              "\n",
              "        const docLinkHtml = 'Like what you see? Visit the ' +\n",
              "          '<a target=\"_blank\" href=https://colab.research.google.com/notebooks/data_table.ipynb>data table notebook</a>'\n",
              "          + ' to learn more about interactive tables.';\n",
              "        element.innerHTML = '';\n",
              "        dataTable['output_type'] = 'display_data';\n",
              "        await google.colab.output.renderOutput(dataTable, element);\n",
              "        const docLink = document.createElement('div');\n",
              "        docLink.innerHTML = docLinkHtml;\n",
              "        element.appendChild(docLink);\n",
              "      }\n",
              "    </script>\n",
              "  </div>\n",
              "\n",
              "\n",
              "<div id=\"df-30594cdb-5ea5-45a9-b963-caffc06085f3\">\n",
              "  <button class=\"colab-df-quickchart\" onclick=\"quickchart('df-30594cdb-5ea5-45a9-b963-caffc06085f3')\"\n",
              "            title=\"Suggest charts\"\n",
              "            style=\"display:none;\">\n",
              "\n",
              "<svg xmlns=\"http://www.w3.org/2000/svg\" height=\"24px\"viewBox=\"0 0 24 24\"\n",
              "     width=\"24px\">\n",
              "    <g>\n",
              "        <path d=\"M19 3H5c-1.1 0-2 .9-2 2v14c0 1.1.9 2 2 2h14c1.1 0 2-.9 2-2V5c0-1.1-.9-2-2-2zM9 17H7v-7h2v7zm4 0h-2V7h2v10zm4 0h-2v-4h2v4z\"/>\n",
              "    </g>\n",
              "</svg>\n",
              "  </button>\n",
              "\n",
              "<style>\n",
              "  .colab-df-quickchart {\n",
              "      --bg-color: #E8F0FE;\n",
              "      --fill-color: #1967D2;\n",
              "      --hover-bg-color: #E2EBFA;\n",
              "      --hover-fill-color: #174EA6;\n",
              "      --disabled-fill-color: #AAA;\n",
              "      --disabled-bg-color: #DDD;\n",
              "  }\n",
              "\n",
              "  [theme=dark] .colab-df-quickchart {\n",
              "      --bg-color: #3B4455;\n",
              "      --fill-color: #D2E3FC;\n",
              "      --hover-bg-color: #434B5C;\n",
              "      --hover-fill-color: #FFFFFF;\n",
              "      --disabled-bg-color: #3B4455;\n",
              "      --disabled-fill-color: #666;\n",
              "  }\n",
              "\n",
              "  .colab-df-quickchart {\n",
              "    background-color: var(--bg-color);\n",
              "    border: none;\n",
              "    border-radius: 50%;\n",
              "    cursor: pointer;\n",
              "    display: none;\n",
              "    fill: var(--fill-color);\n",
              "    height: 32px;\n",
              "    padding: 0;\n",
              "    width: 32px;\n",
              "  }\n",
              "\n",
              "  .colab-df-quickchart:hover {\n",
              "    background-color: var(--hover-bg-color);\n",
              "    box-shadow: 0 1px 2px rgba(60, 64, 67, 0.3), 0 1px 3px 1px rgba(60, 64, 67, 0.15);\n",
              "    fill: var(--button-hover-fill-color);\n",
              "  }\n",
              "\n",
              "  .colab-df-quickchart-complete:disabled,\n",
              "  .colab-df-quickchart-complete:disabled:hover {\n",
              "    background-color: var(--disabled-bg-color);\n",
              "    fill: var(--disabled-fill-color);\n",
              "    box-shadow: none;\n",
              "  }\n",
              "\n",
              "  .colab-df-spinner {\n",
              "    border: 2px solid var(--fill-color);\n",
              "    border-color: transparent;\n",
              "    border-bottom-color: var(--fill-color);\n",
              "    animation:\n",
              "      spin 1s steps(1) infinite;\n",
              "  }\n",
              "\n",
              "  @keyframes spin {\n",
              "    0% {\n",
              "      border-color: transparent;\n",
              "      border-bottom-color: var(--fill-color);\n",
              "      border-left-color: var(--fill-color);\n",
              "    }\n",
              "    20% {\n",
              "      border-color: transparent;\n",
              "      border-left-color: var(--fill-color);\n",
              "      border-top-color: var(--fill-color);\n",
              "    }\n",
              "    30% {\n",
              "      border-color: transparent;\n",
              "      border-left-color: var(--fill-color);\n",
              "      border-top-color: var(--fill-color);\n",
              "      border-right-color: var(--fill-color);\n",
              "    }\n",
              "    40% {\n",
              "      border-color: transparent;\n",
              "      border-right-color: var(--fill-color);\n",
              "      border-top-color: var(--fill-color);\n",
              "    }\n",
              "    60% {\n",
              "      border-color: transparent;\n",
              "      border-right-color: var(--fill-color);\n",
              "    }\n",
              "    80% {\n",
              "      border-color: transparent;\n",
              "      border-right-color: var(--fill-color);\n",
              "      border-bottom-color: var(--fill-color);\n",
              "    }\n",
              "    90% {\n",
              "      border-color: transparent;\n",
              "      border-bottom-color: var(--fill-color);\n",
              "    }\n",
              "  }\n",
              "</style>\n",
              "\n",
              "  <script>\n",
              "    async function quickchart(key) {\n",
              "      const quickchartButtonEl =\n",
              "        document.querySelector('#' + key + ' button');\n",
              "      quickchartButtonEl.disabled = true;  // To prevent multiple clicks.\n",
              "      quickchartButtonEl.classList.add('colab-df-spinner');\n",
              "      try {\n",
              "        const charts = await google.colab.kernel.invokeFunction(\n",
              "            'suggestCharts', [key], {});\n",
              "      } catch (error) {\n",
              "        console.error('Error during call to suggestCharts:', error);\n",
              "      }\n",
              "      quickchartButtonEl.classList.remove('colab-df-spinner');\n",
              "      quickchartButtonEl.classList.add('colab-df-quickchart-complete');\n",
              "    }\n",
              "    (() => {\n",
              "      let quickchartButtonEl =\n",
              "        document.querySelector('#df-30594cdb-5ea5-45a9-b963-caffc06085f3 button');\n",
              "      quickchartButtonEl.style.display =\n",
              "        google.colab.kernel.accessAllowed ? 'block' : 'none';\n",
              "    })();\n",
              "  </script>\n",
              "</div>\n",
              "    </div>\n",
              "  </div>\n"
            ]
          },
          "metadata": {},
          "execution_count": 3
        }
      ]
    },
    {
      "cell_type": "code",
      "source": [
        "!gdown 1_xQt7DoowOru08obubtvQFAeTmYU5WCt"
      ],
      "metadata": {
        "colab": {
          "base_uri": "https://localhost:8080/"
        },
        "id": "wvY6iLr64R9y",
        "outputId": "427d4025-e1d9-429d-d930-e74ef0517155"
      },
      "execution_count": null,
      "outputs": [
        {
          "output_type": "stream",
          "name": "stdout",
          "text": [
            "Downloading...\n",
            "From: https://drive.google.com/uc?id=1_xQt7DoowOru08obubtvQFAeTmYU5WCt\n",
            "To: /content/tr_types.csv\n",
            "\r  0% 0.00/14.2k [00:00<?, ?B/s]\r100% 14.2k/14.2k [00:00<00:00, 27.8MB/s]\n"
          ]
        }
      ]
    },
    {
      "cell_type": "code",
      "source": [
        "tr_types=pd.read_csv(filepath_or_buffer = \"tr_types.csv\",\n",
        "           sep = ';')\n",
        "tr_types"
      ],
      "metadata": {
        "colab": {
          "base_uri": "https://localhost:8080/",
          "height": 424
        },
        "id": "I-4lM4Rv4mpV",
        "outputId": "f5920747-ca05-45bc-e82d-51470a4337f4"
      },
      "execution_count": null,
      "outputs": [
        {
          "output_type": "execute_result",
          "data": {
            "text/plain": [
              "     tr_type                                     tr_description\n",
              "0       3200  Плата за предоставление услуг посредством моби...\n",
              "1       3210  Плата за предоставление отчета по счету карты ...\n",
              "2       3800  Плата за обслуживание банковской карты (за пер...\n",
              "3       4000            Плата за получение наличных в Сбербанке\n",
              "4       4001  Плата за получение наличных в Сбербанке (в дру...\n",
              "..       ...                                                ...\n",
              "150     2990                             Списание по требованию\n",
              "151     2992  Списание средств для погашения задолженности п...\n",
              "152     3001            Комиссия за обслуживание ссудного счета\n",
              "153     3030  Плата за обслуживание банковской карты (за пос...\n",
              "154     3120                Плата за досрочный перевыпуск карты\n",
              "\n",
              "[155 rows x 2 columns]"
            ],
            "text/html": [
              "\n",
              "  <div id=\"df-4f2879b6-5ee2-4e90-bc97-978b0ff4d6ed\" class=\"colab-df-container\">\n",
              "    <div>\n",
              "<style scoped>\n",
              "    .dataframe tbody tr th:only-of-type {\n",
              "        vertical-align: middle;\n",
              "    }\n",
              "\n",
              "    .dataframe tbody tr th {\n",
              "        vertical-align: top;\n",
              "    }\n",
              "\n",
              "    .dataframe thead th {\n",
              "        text-align: right;\n",
              "    }\n",
              "</style>\n",
              "<table border=\"1\" class=\"dataframe\">\n",
              "  <thead>\n",
              "    <tr style=\"text-align: right;\">\n",
              "      <th></th>\n",
              "      <th>tr_type</th>\n",
              "      <th>tr_description</th>\n",
              "    </tr>\n",
              "  </thead>\n",
              "  <tbody>\n",
              "    <tr>\n",
              "      <th>0</th>\n",
              "      <td>3200</td>\n",
              "      <td>Плата за предоставление услуг посредством моби...</td>\n",
              "    </tr>\n",
              "    <tr>\n",
              "      <th>1</th>\n",
              "      <td>3210</td>\n",
              "      <td>Плата за предоставление отчета по счету карты ...</td>\n",
              "    </tr>\n",
              "    <tr>\n",
              "      <th>2</th>\n",
              "      <td>3800</td>\n",
              "      <td>Плата за обслуживание банковской карты (за пер...</td>\n",
              "    </tr>\n",
              "    <tr>\n",
              "      <th>3</th>\n",
              "      <td>4000</td>\n",
              "      <td>Плата за получение наличных в Сбербанке</td>\n",
              "    </tr>\n",
              "    <tr>\n",
              "      <th>4</th>\n",
              "      <td>4001</td>\n",
              "      <td>Плата за получение наличных в Сбербанке (в дру...</td>\n",
              "    </tr>\n",
              "    <tr>\n",
              "      <th>...</th>\n",
              "      <td>...</td>\n",
              "      <td>...</td>\n",
              "    </tr>\n",
              "    <tr>\n",
              "      <th>150</th>\n",
              "      <td>2990</td>\n",
              "      <td>Списание по требованию</td>\n",
              "    </tr>\n",
              "    <tr>\n",
              "      <th>151</th>\n",
              "      <td>2992</td>\n",
              "      <td>Списание средств для погашения задолженности п...</td>\n",
              "    </tr>\n",
              "    <tr>\n",
              "      <th>152</th>\n",
              "      <td>3001</td>\n",
              "      <td>Комиссия за обслуживание ссудного счета</td>\n",
              "    </tr>\n",
              "    <tr>\n",
              "      <th>153</th>\n",
              "      <td>3030</td>\n",
              "      <td>Плата за обслуживание банковской карты (за пос...</td>\n",
              "    </tr>\n",
              "    <tr>\n",
              "      <th>154</th>\n",
              "      <td>3120</td>\n",
              "      <td>Плата за досрочный перевыпуск карты</td>\n",
              "    </tr>\n",
              "  </tbody>\n",
              "</table>\n",
              "<p>155 rows × 2 columns</p>\n",
              "</div>\n",
              "    <div class=\"colab-df-buttons\">\n",
              "\n",
              "  <div class=\"colab-df-container\">\n",
              "    <button class=\"colab-df-convert\" onclick=\"convertToInteractive('df-4f2879b6-5ee2-4e90-bc97-978b0ff4d6ed')\"\n",
              "            title=\"Convert this dataframe to an interactive table.\"\n",
              "            style=\"display:none;\">\n",
              "\n",
              "  <svg xmlns=\"http://www.w3.org/2000/svg\" height=\"24px\" viewBox=\"0 -960 960 960\">\n",
              "    <path d=\"M120-120v-720h720v720H120Zm60-500h600v-160H180v160Zm220 220h160v-160H400v160Zm0 220h160v-160H400v160ZM180-400h160v-160H180v160Zm440 0h160v-160H620v160ZM180-180h160v-160H180v160Zm440 0h160v-160H620v160Z\"/>\n",
              "  </svg>\n",
              "    </button>\n",
              "\n",
              "  <style>\n",
              "    .colab-df-container {\n",
              "      display:flex;\n",
              "      gap: 12px;\n",
              "    }\n",
              "\n",
              "    .colab-df-convert {\n",
              "      background-color: #E8F0FE;\n",
              "      border: none;\n",
              "      border-radius: 50%;\n",
              "      cursor: pointer;\n",
              "      display: none;\n",
              "      fill: #1967D2;\n",
              "      height: 32px;\n",
              "      padding: 0 0 0 0;\n",
              "      width: 32px;\n",
              "    }\n",
              "\n",
              "    .colab-df-convert:hover {\n",
              "      background-color: #E2EBFA;\n",
              "      box-shadow: 0px 1px 2px rgba(60, 64, 67, 0.3), 0px 1px 3px 1px rgba(60, 64, 67, 0.15);\n",
              "      fill: #174EA6;\n",
              "    }\n",
              "\n",
              "    .colab-df-buttons div {\n",
              "      margin-bottom: 4px;\n",
              "    }\n",
              "\n",
              "    [theme=dark] .colab-df-convert {\n",
              "      background-color: #3B4455;\n",
              "      fill: #D2E3FC;\n",
              "    }\n",
              "\n",
              "    [theme=dark] .colab-df-convert:hover {\n",
              "      background-color: #434B5C;\n",
              "      box-shadow: 0px 1px 3px 1px rgba(0, 0, 0, 0.15);\n",
              "      filter: drop-shadow(0px 1px 2px rgba(0, 0, 0, 0.3));\n",
              "      fill: #FFFFFF;\n",
              "    }\n",
              "  </style>\n",
              "\n",
              "    <script>\n",
              "      const buttonEl =\n",
              "        document.querySelector('#df-4f2879b6-5ee2-4e90-bc97-978b0ff4d6ed button.colab-df-convert');\n",
              "      buttonEl.style.display =\n",
              "        google.colab.kernel.accessAllowed ? 'block' : 'none';\n",
              "\n",
              "      async function convertToInteractive(key) {\n",
              "        const element = document.querySelector('#df-4f2879b6-5ee2-4e90-bc97-978b0ff4d6ed');\n",
              "        const dataTable =\n",
              "          await google.colab.kernel.invokeFunction('convertToInteractive',\n",
              "                                                    [key], {});\n",
              "        if (!dataTable) return;\n",
              "\n",
              "        const docLinkHtml = 'Like what you see? Visit the ' +\n",
              "          '<a target=\"_blank\" href=https://colab.research.google.com/notebooks/data_table.ipynb>data table notebook</a>'\n",
              "          + ' to learn more about interactive tables.';\n",
              "        element.innerHTML = '';\n",
              "        dataTable['output_type'] = 'display_data';\n",
              "        await google.colab.output.renderOutput(dataTable, element);\n",
              "        const docLink = document.createElement('div');\n",
              "        docLink.innerHTML = docLinkHtml;\n",
              "        element.appendChild(docLink);\n",
              "      }\n",
              "    </script>\n",
              "  </div>\n",
              "\n",
              "\n",
              "<div id=\"df-7896fca7-f171-4f49-a073-b9ad5010a6ab\">\n",
              "  <button class=\"colab-df-quickchart\" onclick=\"quickchart('df-7896fca7-f171-4f49-a073-b9ad5010a6ab')\"\n",
              "            title=\"Suggest charts\"\n",
              "            style=\"display:none;\">\n",
              "\n",
              "<svg xmlns=\"http://www.w3.org/2000/svg\" height=\"24px\"viewBox=\"0 0 24 24\"\n",
              "     width=\"24px\">\n",
              "    <g>\n",
              "        <path d=\"M19 3H5c-1.1 0-2 .9-2 2v14c0 1.1.9 2 2 2h14c1.1 0 2-.9 2-2V5c0-1.1-.9-2-2-2zM9 17H7v-7h2v7zm4 0h-2V7h2v10zm4 0h-2v-4h2v4z\"/>\n",
              "    </g>\n",
              "</svg>\n",
              "  </button>\n",
              "\n",
              "<style>\n",
              "  .colab-df-quickchart {\n",
              "      --bg-color: #E8F0FE;\n",
              "      --fill-color: #1967D2;\n",
              "      --hover-bg-color: #E2EBFA;\n",
              "      --hover-fill-color: #174EA6;\n",
              "      --disabled-fill-color: #AAA;\n",
              "      --disabled-bg-color: #DDD;\n",
              "  }\n",
              "\n",
              "  [theme=dark] .colab-df-quickchart {\n",
              "      --bg-color: #3B4455;\n",
              "      --fill-color: #D2E3FC;\n",
              "      --hover-bg-color: #434B5C;\n",
              "      --hover-fill-color: #FFFFFF;\n",
              "      --disabled-bg-color: #3B4455;\n",
              "      --disabled-fill-color: #666;\n",
              "  }\n",
              "\n",
              "  .colab-df-quickchart {\n",
              "    background-color: var(--bg-color);\n",
              "    border: none;\n",
              "    border-radius: 50%;\n",
              "    cursor: pointer;\n",
              "    display: none;\n",
              "    fill: var(--fill-color);\n",
              "    height: 32px;\n",
              "    padding: 0;\n",
              "    width: 32px;\n",
              "  }\n",
              "\n",
              "  .colab-df-quickchart:hover {\n",
              "    background-color: var(--hover-bg-color);\n",
              "    box-shadow: 0 1px 2px rgba(60, 64, 67, 0.3), 0 1px 3px 1px rgba(60, 64, 67, 0.15);\n",
              "    fill: var(--button-hover-fill-color);\n",
              "  }\n",
              "\n",
              "  .colab-df-quickchart-complete:disabled,\n",
              "  .colab-df-quickchart-complete:disabled:hover {\n",
              "    background-color: var(--disabled-bg-color);\n",
              "    fill: var(--disabled-fill-color);\n",
              "    box-shadow: none;\n",
              "  }\n",
              "\n",
              "  .colab-df-spinner {\n",
              "    border: 2px solid var(--fill-color);\n",
              "    border-color: transparent;\n",
              "    border-bottom-color: var(--fill-color);\n",
              "    animation:\n",
              "      spin 1s steps(1) infinite;\n",
              "  }\n",
              "\n",
              "  @keyframes spin {\n",
              "    0% {\n",
              "      border-color: transparent;\n",
              "      border-bottom-color: var(--fill-color);\n",
              "      border-left-color: var(--fill-color);\n",
              "    }\n",
              "    20% {\n",
              "      border-color: transparent;\n",
              "      border-left-color: var(--fill-color);\n",
              "      border-top-color: var(--fill-color);\n",
              "    }\n",
              "    30% {\n",
              "      border-color: transparent;\n",
              "      border-left-color: var(--fill-color);\n",
              "      border-top-color: var(--fill-color);\n",
              "      border-right-color: var(--fill-color);\n",
              "    }\n",
              "    40% {\n",
              "      border-color: transparent;\n",
              "      border-right-color: var(--fill-color);\n",
              "      border-top-color: var(--fill-color);\n",
              "    }\n",
              "    60% {\n",
              "      border-color: transparent;\n",
              "      border-right-color: var(--fill-color);\n",
              "    }\n",
              "    80% {\n",
              "      border-color: transparent;\n",
              "      border-right-color: var(--fill-color);\n",
              "      border-bottom-color: var(--fill-color);\n",
              "    }\n",
              "    90% {\n",
              "      border-color: transparent;\n",
              "      border-bottom-color: var(--fill-color);\n",
              "    }\n",
              "  }\n",
              "</style>\n",
              "\n",
              "  <script>\n",
              "    async function quickchart(key) {\n",
              "      const quickchartButtonEl =\n",
              "        document.querySelector('#' + key + ' button');\n",
              "      quickchartButtonEl.disabled = true;  // To prevent multiple clicks.\n",
              "      quickchartButtonEl.classList.add('colab-df-spinner');\n",
              "      try {\n",
              "        const charts = await google.colab.kernel.invokeFunction(\n",
              "            'suggestCharts', [key], {});\n",
              "      } catch (error) {\n",
              "        console.error('Error during call to suggestCharts:', error);\n",
              "      }\n",
              "      quickchartButtonEl.classList.remove('colab-df-spinner');\n",
              "      quickchartButtonEl.classList.add('colab-df-quickchart-complete');\n",
              "    }\n",
              "    (() => {\n",
              "      let quickchartButtonEl =\n",
              "        document.querySelector('#df-7896fca7-f171-4f49-a073-b9ad5010a6ab button');\n",
              "      quickchartButtonEl.style.display =\n",
              "        google.colab.kernel.accessAllowed ? 'block' : 'none';\n",
              "    })();\n",
              "  </script>\n",
              "</div>\n",
              "    </div>\n",
              "  </div>\n"
            ]
          },
          "metadata": {},
          "execution_count": 5
        }
      ]
    },
    {
      "cell_type": "code",
      "source": [
        "!gdown 1mihj1Fq6UbEXVsD00vtdWw1a8zyHwwNf"
      ],
      "metadata": {
        "colab": {
          "base_uri": "https://localhost:8080/"
        },
        "id": "3YKbrMwC43-c",
        "outputId": "44404345-1177-4c7b-e071-7d90e318f5a6"
      },
      "execution_count": null,
      "outputs": [
        {
          "output_type": "stream",
          "name": "stdout",
          "text": [
            "Downloading...\n",
            "From: https://drive.google.com/uc?id=1mihj1Fq6UbEXVsD00vtdWw1a8zyHwwNf\n",
            "To: /content/gender_train.csv\n",
            "\r  0% 0.00/99.9k [00:00<?, ?B/s]\r100% 99.9k/99.9k [00:00<00:00, 99.8MB/s]\n"
          ]
        }
      ]
    },
    {
      "cell_type": "code",
      "source": [
        "gender_train=pd.read_csv(filepath_or_buffer = \"gender_train.csv\",\n",
        "           sep = ',')\n",
        "gender_train"
      ],
      "metadata": {
        "colab": {
          "base_uri": "https://localhost:8080/",
          "height": 424
        },
        "id": "_B9R1iKW5blm",
        "outputId": "607de774-fc20-4995-ceaa-62b24ad19f3c"
      },
      "execution_count": null,
      "outputs": [
        {
          "output_type": "execute_result",
          "data": {
            "text/plain": [
              "      customer_id  gender\n",
              "0        10928546       1\n",
              "1        69348468       1\n",
              "2        61009479       0\n",
              "3        74045822       0\n",
              "4        27979606       1\n",
              "...           ...     ...\n",
              "8395     90417572       0\n",
              "8396     66837341       0\n",
              "8397     10758984       1\n",
              "8398     11376556       0\n",
              "8399     29190649       0\n",
              "\n",
              "[8400 rows x 2 columns]"
            ],
            "text/html": [
              "\n",
              "  <div id=\"df-8be9462c-c8a5-4125-bdb7-89bd59e42af5\" class=\"colab-df-container\">\n",
              "    <div>\n",
              "<style scoped>\n",
              "    .dataframe tbody tr th:only-of-type {\n",
              "        vertical-align: middle;\n",
              "    }\n",
              "\n",
              "    .dataframe tbody tr th {\n",
              "        vertical-align: top;\n",
              "    }\n",
              "\n",
              "    .dataframe thead th {\n",
              "        text-align: right;\n",
              "    }\n",
              "</style>\n",
              "<table border=\"1\" class=\"dataframe\">\n",
              "  <thead>\n",
              "    <tr style=\"text-align: right;\">\n",
              "      <th></th>\n",
              "      <th>customer_id</th>\n",
              "      <th>gender</th>\n",
              "    </tr>\n",
              "  </thead>\n",
              "  <tbody>\n",
              "    <tr>\n",
              "      <th>0</th>\n",
              "      <td>10928546</td>\n",
              "      <td>1</td>\n",
              "    </tr>\n",
              "    <tr>\n",
              "      <th>1</th>\n",
              "      <td>69348468</td>\n",
              "      <td>1</td>\n",
              "    </tr>\n",
              "    <tr>\n",
              "      <th>2</th>\n",
              "      <td>61009479</td>\n",
              "      <td>0</td>\n",
              "    </tr>\n",
              "    <tr>\n",
              "      <th>3</th>\n",
              "      <td>74045822</td>\n",
              "      <td>0</td>\n",
              "    </tr>\n",
              "    <tr>\n",
              "      <th>4</th>\n",
              "      <td>27979606</td>\n",
              "      <td>1</td>\n",
              "    </tr>\n",
              "    <tr>\n",
              "      <th>...</th>\n",
              "      <td>...</td>\n",
              "      <td>...</td>\n",
              "    </tr>\n",
              "    <tr>\n",
              "      <th>8395</th>\n",
              "      <td>90417572</td>\n",
              "      <td>0</td>\n",
              "    </tr>\n",
              "    <tr>\n",
              "      <th>8396</th>\n",
              "      <td>66837341</td>\n",
              "      <td>0</td>\n",
              "    </tr>\n",
              "    <tr>\n",
              "      <th>8397</th>\n",
              "      <td>10758984</td>\n",
              "      <td>1</td>\n",
              "    </tr>\n",
              "    <tr>\n",
              "      <th>8398</th>\n",
              "      <td>11376556</td>\n",
              "      <td>0</td>\n",
              "    </tr>\n",
              "    <tr>\n",
              "      <th>8399</th>\n",
              "      <td>29190649</td>\n",
              "      <td>0</td>\n",
              "    </tr>\n",
              "  </tbody>\n",
              "</table>\n",
              "<p>8400 rows × 2 columns</p>\n",
              "</div>\n",
              "    <div class=\"colab-df-buttons\">\n",
              "\n",
              "  <div class=\"colab-df-container\">\n",
              "    <button class=\"colab-df-convert\" onclick=\"convertToInteractive('df-8be9462c-c8a5-4125-bdb7-89bd59e42af5')\"\n",
              "            title=\"Convert this dataframe to an interactive table.\"\n",
              "            style=\"display:none;\">\n",
              "\n",
              "  <svg xmlns=\"http://www.w3.org/2000/svg\" height=\"24px\" viewBox=\"0 -960 960 960\">\n",
              "    <path d=\"M120-120v-720h720v720H120Zm60-500h600v-160H180v160Zm220 220h160v-160H400v160Zm0 220h160v-160H400v160ZM180-400h160v-160H180v160Zm440 0h160v-160H620v160ZM180-180h160v-160H180v160Zm440 0h160v-160H620v160Z\"/>\n",
              "  </svg>\n",
              "    </button>\n",
              "\n",
              "  <style>\n",
              "    .colab-df-container {\n",
              "      display:flex;\n",
              "      gap: 12px;\n",
              "    }\n",
              "\n",
              "    .colab-df-convert {\n",
              "      background-color: #E8F0FE;\n",
              "      border: none;\n",
              "      border-radius: 50%;\n",
              "      cursor: pointer;\n",
              "      display: none;\n",
              "      fill: #1967D2;\n",
              "      height: 32px;\n",
              "      padding: 0 0 0 0;\n",
              "      width: 32px;\n",
              "    }\n",
              "\n",
              "    .colab-df-convert:hover {\n",
              "      background-color: #E2EBFA;\n",
              "      box-shadow: 0px 1px 2px rgba(60, 64, 67, 0.3), 0px 1px 3px 1px rgba(60, 64, 67, 0.15);\n",
              "      fill: #174EA6;\n",
              "    }\n",
              "\n",
              "    .colab-df-buttons div {\n",
              "      margin-bottom: 4px;\n",
              "    }\n",
              "\n",
              "    [theme=dark] .colab-df-convert {\n",
              "      background-color: #3B4455;\n",
              "      fill: #D2E3FC;\n",
              "    }\n",
              "\n",
              "    [theme=dark] .colab-df-convert:hover {\n",
              "      background-color: #434B5C;\n",
              "      box-shadow: 0px 1px 3px 1px rgba(0, 0, 0, 0.15);\n",
              "      filter: drop-shadow(0px 1px 2px rgba(0, 0, 0, 0.3));\n",
              "      fill: #FFFFFF;\n",
              "    }\n",
              "  </style>\n",
              "\n",
              "    <script>\n",
              "      const buttonEl =\n",
              "        document.querySelector('#df-8be9462c-c8a5-4125-bdb7-89bd59e42af5 button.colab-df-convert');\n",
              "      buttonEl.style.display =\n",
              "        google.colab.kernel.accessAllowed ? 'block' : 'none';\n",
              "\n",
              "      async function convertToInteractive(key) {\n",
              "        const element = document.querySelector('#df-8be9462c-c8a5-4125-bdb7-89bd59e42af5');\n",
              "        const dataTable =\n",
              "          await google.colab.kernel.invokeFunction('convertToInteractive',\n",
              "                                                    [key], {});\n",
              "        if (!dataTable) return;\n",
              "\n",
              "        const docLinkHtml = 'Like what you see? Visit the ' +\n",
              "          '<a target=\"_blank\" href=https://colab.research.google.com/notebooks/data_table.ipynb>data table notebook</a>'\n",
              "          + ' to learn more about interactive tables.';\n",
              "        element.innerHTML = '';\n",
              "        dataTable['output_type'] = 'display_data';\n",
              "        await google.colab.output.renderOutput(dataTable, element);\n",
              "        const docLink = document.createElement('div');\n",
              "        docLink.innerHTML = docLinkHtml;\n",
              "        element.appendChild(docLink);\n",
              "      }\n",
              "    </script>\n",
              "  </div>\n",
              "\n",
              "\n",
              "<div id=\"df-332bb9ff-7771-4945-88d9-a34d73b9b3f0\">\n",
              "  <button class=\"colab-df-quickchart\" onclick=\"quickchart('df-332bb9ff-7771-4945-88d9-a34d73b9b3f0')\"\n",
              "            title=\"Suggest charts\"\n",
              "            style=\"display:none;\">\n",
              "\n",
              "<svg xmlns=\"http://www.w3.org/2000/svg\" height=\"24px\"viewBox=\"0 0 24 24\"\n",
              "     width=\"24px\">\n",
              "    <g>\n",
              "        <path d=\"M19 3H5c-1.1 0-2 .9-2 2v14c0 1.1.9 2 2 2h14c1.1 0 2-.9 2-2V5c0-1.1-.9-2-2-2zM9 17H7v-7h2v7zm4 0h-2V7h2v10zm4 0h-2v-4h2v4z\"/>\n",
              "    </g>\n",
              "</svg>\n",
              "  </button>\n",
              "\n",
              "<style>\n",
              "  .colab-df-quickchart {\n",
              "      --bg-color: #E8F0FE;\n",
              "      --fill-color: #1967D2;\n",
              "      --hover-bg-color: #E2EBFA;\n",
              "      --hover-fill-color: #174EA6;\n",
              "      --disabled-fill-color: #AAA;\n",
              "      --disabled-bg-color: #DDD;\n",
              "  }\n",
              "\n",
              "  [theme=dark] .colab-df-quickchart {\n",
              "      --bg-color: #3B4455;\n",
              "      --fill-color: #D2E3FC;\n",
              "      --hover-bg-color: #434B5C;\n",
              "      --hover-fill-color: #FFFFFF;\n",
              "      --disabled-bg-color: #3B4455;\n",
              "      --disabled-fill-color: #666;\n",
              "  }\n",
              "\n",
              "  .colab-df-quickchart {\n",
              "    background-color: var(--bg-color);\n",
              "    border: none;\n",
              "    border-radius: 50%;\n",
              "    cursor: pointer;\n",
              "    display: none;\n",
              "    fill: var(--fill-color);\n",
              "    height: 32px;\n",
              "    padding: 0;\n",
              "    width: 32px;\n",
              "  }\n",
              "\n",
              "  .colab-df-quickchart:hover {\n",
              "    background-color: var(--hover-bg-color);\n",
              "    box-shadow: 0 1px 2px rgba(60, 64, 67, 0.3), 0 1px 3px 1px rgba(60, 64, 67, 0.15);\n",
              "    fill: var(--button-hover-fill-color);\n",
              "  }\n",
              "\n",
              "  .colab-df-quickchart-complete:disabled,\n",
              "  .colab-df-quickchart-complete:disabled:hover {\n",
              "    background-color: var(--disabled-bg-color);\n",
              "    fill: var(--disabled-fill-color);\n",
              "    box-shadow: none;\n",
              "  }\n",
              "\n",
              "  .colab-df-spinner {\n",
              "    border: 2px solid var(--fill-color);\n",
              "    border-color: transparent;\n",
              "    border-bottom-color: var(--fill-color);\n",
              "    animation:\n",
              "      spin 1s steps(1) infinite;\n",
              "  }\n",
              "\n",
              "  @keyframes spin {\n",
              "    0% {\n",
              "      border-color: transparent;\n",
              "      border-bottom-color: var(--fill-color);\n",
              "      border-left-color: var(--fill-color);\n",
              "    }\n",
              "    20% {\n",
              "      border-color: transparent;\n",
              "      border-left-color: var(--fill-color);\n",
              "      border-top-color: var(--fill-color);\n",
              "    }\n",
              "    30% {\n",
              "      border-color: transparent;\n",
              "      border-left-color: var(--fill-color);\n",
              "      border-top-color: var(--fill-color);\n",
              "      border-right-color: var(--fill-color);\n",
              "    }\n",
              "    40% {\n",
              "      border-color: transparent;\n",
              "      border-right-color: var(--fill-color);\n",
              "      border-top-color: var(--fill-color);\n",
              "    }\n",
              "    60% {\n",
              "      border-color: transparent;\n",
              "      border-right-color: var(--fill-color);\n",
              "    }\n",
              "    80% {\n",
              "      border-color: transparent;\n",
              "      border-right-color: var(--fill-color);\n",
              "      border-bottom-color: var(--fill-color);\n",
              "    }\n",
              "    90% {\n",
              "      border-color: transparent;\n",
              "      border-bottom-color: var(--fill-color);\n",
              "    }\n",
              "  }\n",
              "</style>\n",
              "\n",
              "  <script>\n",
              "    async function quickchart(key) {\n",
              "      const quickchartButtonEl =\n",
              "        document.querySelector('#' + key + ' button');\n",
              "      quickchartButtonEl.disabled = true;  // To prevent multiple clicks.\n",
              "      quickchartButtonEl.classList.add('colab-df-spinner');\n",
              "      try {\n",
              "        const charts = await google.colab.kernel.invokeFunction(\n",
              "            'suggestCharts', [key], {});\n",
              "      } catch (error) {\n",
              "        console.error('Error during call to suggestCharts:', error);\n",
              "      }\n",
              "      quickchartButtonEl.classList.remove('colab-df-spinner');\n",
              "      quickchartButtonEl.classList.add('colab-df-quickchart-complete');\n",
              "    }\n",
              "    (() => {\n",
              "      let quickchartButtonEl =\n",
              "        document.querySelector('#df-332bb9ff-7771-4945-88d9-a34d73b9b3f0 button');\n",
              "      quickchartButtonEl.style.display =\n",
              "        google.colab.kernel.accessAllowed ? 'block' : 'none';\n",
              "    })();\n",
              "  </script>\n",
              "</div>\n",
              "    </div>\n",
              "  </div>\n"
            ]
          },
          "metadata": {},
          "execution_count": 7
        }
      ]
    },
    {
      "cell_type": "code",
      "source": [
        "!gdown 1iwatUcj5yvMPSXpKFOPy-PDoJEEYhjqs"
      ],
      "metadata": {
        "colab": {
          "base_uri": "https://localhost:8080/"
        },
        "id": "n1_a-HRO5pxi",
        "outputId": "b25413fd-2e5b-4b49-e3f3-e3ad29898818"
      },
      "execution_count": null,
      "outputs": [
        {
          "output_type": "stream",
          "name": "stdout",
          "text": [
            "Downloading...\n",
            "From: https://drive.google.com/uc?id=1iwatUcj5yvMPSXpKFOPy-PDoJEEYhjqs\n",
            "To: /content/tr_mcc_codes.csv\n",
            "\r  0% 0.00/14.9k [00:00<?, ?B/s]\r100% 14.9k/14.9k [00:00<00:00, 31.6MB/s]\n"
          ]
        }
      ]
    },
    {
      "cell_type": "code",
      "source": [
        "tr_mcc_codes=pd.read_csv(filepath_or_buffer = \"tr_mcc_codes.csv\",\n",
        "           sep = ';')\n",
        "tr_mcc_codes"
      ],
      "metadata": {
        "colab": {
          "base_uri": "https://localhost:8080/",
          "height": 424
        },
        "id": "5i8jft6H5zfu",
        "outputId": "777142b4-19f5-4953-e6b0-857113e09db1"
      },
      "execution_count": null,
      "outputs": [
        {
          "output_type": "execute_result",
          "data": {
            "text/plain": [
              "     mcc_code                                    mcc_description\n",
              "0         742                                Ветеринарные услуги\n",
              "1        1711  Генеральные подрядчики по вентиляции, теплосна...\n",
              "2        1731                        Подрядчики по электричеству\n",
              "3        1799  Подрядчики, специализированная торговля — нигд...\n",
              "4        2741           Разнообразные издательства/печатное дело\n",
              "..        ...                                                ...\n",
              "179      9211  Судовые выплаты, включая алименты и детскую по...\n",
              "180      9222                                             Штрафы\n",
              "181      9311                                  Налоговые платежи\n",
              "182      9399  Правительственные услуги, нигде ранее не класс...\n",
              "183      9402             Почтовые услуги — только правительство\n",
              "\n",
              "[184 rows x 2 columns]"
            ],
            "text/html": [
              "\n",
              "  <div id=\"df-6b158b0f-fd9d-4a5c-9eef-0204c721ab16\" class=\"colab-df-container\">\n",
              "    <div>\n",
              "<style scoped>\n",
              "    .dataframe tbody tr th:only-of-type {\n",
              "        vertical-align: middle;\n",
              "    }\n",
              "\n",
              "    .dataframe tbody tr th {\n",
              "        vertical-align: top;\n",
              "    }\n",
              "\n",
              "    .dataframe thead th {\n",
              "        text-align: right;\n",
              "    }\n",
              "</style>\n",
              "<table border=\"1\" class=\"dataframe\">\n",
              "  <thead>\n",
              "    <tr style=\"text-align: right;\">\n",
              "      <th></th>\n",
              "      <th>mcc_code</th>\n",
              "      <th>mcc_description</th>\n",
              "    </tr>\n",
              "  </thead>\n",
              "  <tbody>\n",
              "    <tr>\n",
              "      <th>0</th>\n",
              "      <td>742</td>\n",
              "      <td>Ветеринарные услуги</td>\n",
              "    </tr>\n",
              "    <tr>\n",
              "      <th>1</th>\n",
              "      <td>1711</td>\n",
              "      <td>Генеральные подрядчики по вентиляции, теплосна...</td>\n",
              "    </tr>\n",
              "    <tr>\n",
              "      <th>2</th>\n",
              "      <td>1731</td>\n",
              "      <td>Подрядчики по электричеству</td>\n",
              "    </tr>\n",
              "    <tr>\n",
              "      <th>3</th>\n",
              "      <td>1799</td>\n",
              "      <td>Подрядчики, специализированная торговля — нигд...</td>\n",
              "    </tr>\n",
              "    <tr>\n",
              "      <th>4</th>\n",
              "      <td>2741</td>\n",
              "      <td>Разнообразные издательства/печатное дело</td>\n",
              "    </tr>\n",
              "    <tr>\n",
              "      <th>...</th>\n",
              "      <td>...</td>\n",
              "      <td>...</td>\n",
              "    </tr>\n",
              "    <tr>\n",
              "      <th>179</th>\n",
              "      <td>9211</td>\n",
              "      <td>Судовые выплаты, включая алименты и детскую по...</td>\n",
              "    </tr>\n",
              "    <tr>\n",
              "      <th>180</th>\n",
              "      <td>9222</td>\n",
              "      <td>Штрафы</td>\n",
              "    </tr>\n",
              "    <tr>\n",
              "      <th>181</th>\n",
              "      <td>9311</td>\n",
              "      <td>Налоговые платежи</td>\n",
              "    </tr>\n",
              "    <tr>\n",
              "      <th>182</th>\n",
              "      <td>9399</td>\n",
              "      <td>Правительственные услуги, нигде ранее не класс...</td>\n",
              "    </tr>\n",
              "    <tr>\n",
              "      <th>183</th>\n",
              "      <td>9402</td>\n",
              "      <td>Почтовые услуги — только правительство</td>\n",
              "    </tr>\n",
              "  </tbody>\n",
              "</table>\n",
              "<p>184 rows × 2 columns</p>\n",
              "</div>\n",
              "    <div class=\"colab-df-buttons\">\n",
              "\n",
              "  <div class=\"colab-df-container\">\n",
              "    <button class=\"colab-df-convert\" onclick=\"convertToInteractive('df-6b158b0f-fd9d-4a5c-9eef-0204c721ab16')\"\n",
              "            title=\"Convert this dataframe to an interactive table.\"\n",
              "            style=\"display:none;\">\n",
              "\n",
              "  <svg xmlns=\"http://www.w3.org/2000/svg\" height=\"24px\" viewBox=\"0 -960 960 960\">\n",
              "    <path d=\"M120-120v-720h720v720H120Zm60-500h600v-160H180v160Zm220 220h160v-160H400v160Zm0 220h160v-160H400v160ZM180-400h160v-160H180v160Zm440 0h160v-160H620v160ZM180-180h160v-160H180v160Zm440 0h160v-160H620v160Z\"/>\n",
              "  </svg>\n",
              "    </button>\n",
              "\n",
              "  <style>\n",
              "    .colab-df-container {\n",
              "      display:flex;\n",
              "      gap: 12px;\n",
              "    }\n",
              "\n",
              "    .colab-df-convert {\n",
              "      background-color: #E8F0FE;\n",
              "      border: none;\n",
              "      border-radius: 50%;\n",
              "      cursor: pointer;\n",
              "      display: none;\n",
              "      fill: #1967D2;\n",
              "      height: 32px;\n",
              "      padding: 0 0 0 0;\n",
              "      width: 32px;\n",
              "    }\n",
              "\n",
              "    .colab-df-convert:hover {\n",
              "      background-color: #E2EBFA;\n",
              "      box-shadow: 0px 1px 2px rgba(60, 64, 67, 0.3), 0px 1px 3px 1px rgba(60, 64, 67, 0.15);\n",
              "      fill: #174EA6;\n",
              "    }\n",
              "\n",
              "    .colab-df-buttons div {\n",
              "      margin-bottom: 4px;\n",
              "    }\n",
              "\n",
              "    [theme=dark] .colab-df-convert {\n",
              "      background-color: #3B4455;\n",
              "      fill: #D2E3FC;\n",
              "    }\n",
              "\n",
              "    [theme=dark] .colab-df-convert:hover {\n",
              "      background-color: #434B5C;\n",
              "      box-shadow: 0px 1px 3px 1px rgba(0, 0, 0, 0.15);\n",
              "      filter: drop-shadow(0px 1px 2px rgba(0, 0, 0, 0.3));\n",
              "      fill: #FFFFFF;\n",
              "    }\n",
              "  </style>\n",
              "\n",
              "    <script>\n",
              "      const buttonEl =\n",
              "        document.querySelector('#df-6b158b0f-fd9d-4a5c-9eef-0204c721ab16 button.colab-df-convert');\n",
              "      buttonEl.style.display =\n",
              "        google.colab.kernel.accessAllowed ? 'block' : 'none';\n",
              "\n",
              "      async function convertToInteractive(key) {\n",
              "        const element = document.querySelector('#df-6b158b0f-fd9d-4a5c-9eef-0204c721ab16');\n",
              "        const dataTable =\n",
              "          await google.colab.kernel.invokeFunction('convertToInteractive',\n",
              "                                                    [key], {});\n",
              "        if (!dataTable) return;\n",
              "\n",
              "        const docLinkHtml = 'Like what you see? Visit the ' +\n",
              "          '<a target=\"_blank\" href=https://colab.research.google.com/notebooks/data_table.ipynb>data table notebook</a>'\n",
              "          + ' to learn more about interactive tables.';\n",
              "        element.innerHTML = '';\n",
              "        dataTable['output_type'] = 'display_data';\n",
              "        await google.colab.output.renderOutput(dataTable, element);\n",
              "        const docLink = document.createElement('div');\n",
              "        docLink.innerHTML = docLinkHtml;\n",
              "        element.appendChild(docLink);\n",
              "      }\n",
              "    </script>\n",
              "  </div>\n",
              "\n",
              "\n",
              "<div id=\"df-31bfaf6b-1a38-4da3-9ee3-4cef53884564\">\n",
              "  <button class=\"colab-df-quickchart\" onclick=\"quickchart('df-31bfaf6b-1a38-4da3-9ee3-4cef53884564')\"\n",
              "            title=\"Suggest charts\"\n",
              "            style=\"display:none;\">\n",
              "\n",
              "<svg xmlns=\"http://www.w3.org/2000/svg\" height=\"24px\"viewBox=\"0 0 24 24\"\n",
              "     width=\"24px\">\n",
              "    <g>\n",
              "        <path d=\"M19 3H5c-1.1 0-2 .9-2 2v14c0 1.1.9 2 2 2h14c1.1 0 2-.9 2-2V5c0-1.1-.9-2-2-2zM9 17H7v-7h2v7zm4 0h-2V7h2v10zm4 0h-2v-4h2v4z\"/>\n",
              "    </g>\n",
              "</svg>\n",
              "  </button>\n",
              "\n",
              "<style>\n",
              "  .colab-df-quickchart {\n",
              "      --bg-color: #E8F0FE;\n",
              "      --fill-color: #1967D2;\n",
              "      --hover-bg-color: #E2EBFA;\n",
              "      --hover-fill-color: #174EA6;\n",
              "      --disabled-fill-color: #AAA;\n",
              "      --disabled-bg-color: #DDD;\n",
              "  }\n",
              "\n",
              "  [theme=dark] .colab-df-quickchart {\n",
              "      --bg-color: #3B4455;\n",
              "      --fill-color: #D2E3FC;\n",
              "      --hover-bg-color: #434B5C;\n",
              "      --hover-fill-color: #FFFFFF;\n",
              "      --disabled-bg-color: #3B4455;\n",
              "      --disabled-fill-color: #666;\n",
              "  }\n",
              "\n",
              "  .colab-df-quickchart {\n",
              "    background-color: var(--bg-color);\n",
              "    border: none;\n",
              "    border-radius: 50%;\n",
              "    cursor: pointer;\n",
              "    display: none;\n",
              "    fill: var(--fill-color);\n",
              "    height: 32px;\n",
              "    padding: 0;\n",
              "    width: 32px;\n",
              "  }\n",
              "\n",
              "  .colab-df-quickchart:hover {\n",
              "    background-color: var(--hover-bg-color);\n",
              "    box-shadow: 0 1px 2px rgba(60, 64, 67, 0.3), 0 1px 3px 1px rgba(60, 64, 67, 0.15);\n",
              "    fill: var(--button-hover-fill-color);\n",
              "  }\n",
              "\n",
              "  .colab-df-quickchart-complete:disabled,\n",
              "  .colab-df-quickchart-complete:disabled:hover {\n",
              "    background-color: var(--disabled-bg-color);\n",
              "    fill: var(--disabled-fill-color);\n",
              "    box-shadow: none;\n",
              "  }\n",
              "\n",
              "  .colab-df-spinner {\n",
              "    border: 2px solid var(--fill-color);\n",
              "    border-color: transparent;\n",
              "    border-bottom-color: var(--fill-color);\n",
              "    animation:\n",
              "      spin 1s steps(1) infinite;\n",
              "  }\n",
              "\n",
              "  @keyframes spin {\n",
              "    0% {\n",
              "      border-color: transparent;\n",
              "      border-bottom-color: var(--fill-color);\n",
              "      border-left-color: var(--fill-color);\n",
              "    }\n",
              "    20% {\n",
              "      border-color: transparent;\n",
              "      border-left-color: var(--fill-color);\n",
              "      border-top-color: var(--fill-color);\n",
              "    }\n",
              "    30% {\n",
              "      border-color: transparent;\n",
              "      border-left-color: var(--fill-color);\n",
              "      border-top-color: var(--fill-color);\n",
              "      border-right-color: var(--fill-color);\n",
              "    }\n",
              "    40% {\n",
              "      border-color: transparent;\n",
              "      border-right-color: var(--fill-color);\n",
              "      border-top-color: var(--fill-color);\n",
              "    }\n",
              "    60% {\n",
              "      border-color: transparent;\n",
              "      border-right-color: var(--fill-color);\n",
              "    }\n",
              "    80% {\n",
              "      border-color: transparent;\n",
              "      border-right-color: var(--fill-color);\n",
              "      border-bottom-color: var(--fill-color);\n",
              "    }\n",
              "    90% {\n",
              "      border-color: transparent;\n",
              "      border-bottom-color: var(--fill-color);\n",
              "    }\n",
              "  }\n",
              "</style>\n",
              "\n",
              "  <script>\n",
              "    async function quickchart(key) {\n",
              "      const quickchartButtonEl =\n",
              "        document.querySelector('#' + key + ' button');\n",
              "      quickchartButtonEl.disabled = true;  // To prevent multiple clicks.\n",
              "      quickchartButtonEl.classList.add('colab-df-spinner');\n",
              "      try {\n",
              "        const charts = await google.colab.kernel.invokeFunction(\n",
              "            'suggestCharts', [key], {});\n",
              "      } catch (error) {\n",
              "        console.error('Error during call to suggestCharts:', error);\n",
              "      }\n",
              "      quickchartButtonEl.classList.remove('colab-df-spinner');\n",
              "      quickchartButtonEl.classList.add('colab-df-quickchart-complete');\n",
              "    }\n",
              "    (() => {\n",
              "      let quickchartButtonEl =\n",
              "        document.querySelector('#df-31bfaf6b-1a38-4da3-9ee3-4cef53884564 button');\n",
              "      quickchartButtonEl.style.display =\n",
              "        google.colab.kernel.accessAllowed ? 'block' : 'none';\n",
              "    })();\n",
              "  </script>\n",
              "</div>\n",
              "    </div>\n",
              "  </div>\n"
            ]
          },
          "metadata": {},
          "execution_count": 9
        }
      ]
    },
    {
      "cell_type": "markdown",
      "metadata": {
        "id": "yaSxXHvxO0qo"
      },
      "source": [
        "Для всех  заданий будем использовать обезличенные транзакционные банковские данные. Для этого считайте в переменные **tr_mcc_codes, tr_types, transactions и gender_train** из одноимённых таблиц из папки [data](https://drive.google.com/drive/folders/1YAMe7MiTxA-RSSd8Ex2p-L0Dspe6Gs4L).\n",
        "\n",
        "Для таблицы transactions используйте только первые n=1000000 строк. При чтении файлов обратите внимание на разделители внутри каждого из файлов - они могут различаться!"
      ]
    },
    {
      "cell_type": "markdown",
      "metadata": {
        "id": "oP3lX9xC8Jd8"
      },
      "source": [
        "###  Описание данных\n",
        "#### Таблица ```transactions.csv```\n",
        "##### Описание\n",
        "Таблица содержит историю транзакций клиентов банка за один год и три месяца.\n",
        "\n",
        "##### Формат данных\n",
        "\n",
        "```\n",
        "customer_id,tr_datetime,mcc_code,tr_type,amount,term_id\n",
        "111111,15 01:40:52,1111,1000,-5224,111111\n",
        "111112,15 15:18:32,3333,2000,-100,11122233\n",
        "...\n",
        "```\n",
        "##### Описание полей\n",
        "\n",
        " - ```customer_id``` — идентификатор клиента;\n",
        " - ```tr_datetime``` — день и время совершения транзакции (дни нумеруются с начала данных);\n",
        " - ```mcc_code``` — mcc-код транзакции;\n",
        " - ```tr_type``` — тип транзакции;\n",
        " - ```amount``` — сумма транзакции в условных единицах со знаком; ```+``` — начисление средств клиенту (приходная транзакция), ```-``` — списание средств (расходная транзакция);\n",
        " - ```term_id``` — идентификатор терминала;\n",
        "\n",
        "\n",
        "#### Таблица ```gender_train.csv```\n",
        "\n",
        "##### Описание\n",
        "Данная таблица содержит информацию по полу для части клиентов, для которых он известен. Для остальных клиентов пол неизвестен.\n",
        "\n",
        "##### Формат данных\n",
        "```\n",
        "customer_id,gender\n",
        "111111,0\n",
        "111112,1\n",
        "...\n",
        "```\n",
        "\n",
        "##### Описание полей\n",
        " - ```customer_id``` — идентификатор клиента;\n",
        " - ```gender``` — пол клиента;\n",
        "\n",
        "### Таблица ```tr_mcc_codes.csv```\n",
        "\n",
        "##### Описание\n",
        "Данная таблица содержит описание mcc-кодов транзакций.\n",
        "\n",
        "##### Формат данных\n",
        "```\n",
        "mcc_code;mcc_description\n",
        "1000;словесное описание mcc-кода 1000\n",
        "2000;словесное описание mcc-кода 2000\n",
        "...\n",
        "```\n",
        "\n",
        "##### Описание полей\n",
        " - ```mcc_code``` – mcc-код транзакции;\n",
        " - ```mcc_description``` — описание mcc-кода транзакции.\n",
        "\n",
        "#### Таблица ```tr_types.csv```\n",
        "\n",
        "##### Описание\n",
        "Данная таблица содержит описание типов транзакций.\n",
        "\n",
        "##### Формат данных\n",
        "```\n",
        "tr_type;tr_description\n",
        "1000;словесное описание типа транзакции 1000\n",
        "2000;словесное описание типа транзакции 2000\n",
        "...\n",
        "```\n",
        "\n",
        "##### Описание полей\n",
        " - ```tr_type``` – тип транзакции;\n",
        " - ```tr_description``` — описание типа транзакции;"
      ]
    },
    {
      "cell_type": "markdown",
      "metadata": {
        "id": "04CYsBKz8JeB"
      },
      "source": [
        "\n",
        "Задания 1-4 делаются без использования merge!\n",
        "\n",
        "## Задание 1\n",
        "\n"
      ]
    },
    {
      "cell_type": "markdown",
      "metadata": {
        "id": "1hcrfwsYN_Yz"
      },
      "source": [
        "1. Для столбца tr_type датафрейма transactions выберите произвольные 1000 строк с помощью метода sample\n",
        "2. В полученной на предыдущем этапе подвыборке найдите долю транзакций (стобец tr_description в датасете tr_types), в которой содержится подстрока 'POS' или 'ATM'\n"
      ]
    },
    {
      "cell_type": "code",
      "source": [
        "s_transactions=transactions.tr_type.sample(1000)\n",
        "sd_transactions = pd.DataFrame({'tr_type': s_transactions})\n",
        "\n",
        "tr_type_find = tr_types[tr_types['tr_description'].str.contains('POS|ATM')]['tr_type']\n",
        "\n",
        "result_transactions = sd_transactions[sd_transactions['tr_type'].isin(tr_type_find)]\n",
        "\n",
        "print(len(result_transactions) / len(sd_transactions))"
      ],
      "metadata": {
        "colab": {
          "base_uri": "https://localhost:8080/"
        },
        "id": "aD_x0GOT7yeo",
        "outputId": "ea013629-ca44-4585-94f8-90b7e968b20d"
      },
      "execution_count": null,
      "outputs": [
        {
          "output_type": "stream",
          "name": "stdout",
          "text": [
            "0.41\n"
          ]
        }
      ]
    },
    {
      "cell_type": "markdown",
      "metadata": {
        "id": "fiZBDIZt8JeS"
      },
      "source": [
        "## Задание 2\n"
      ]
    },
    {
      "cell_type": "markdown",
      "metadata": {
        "id": "FFKeBUThOCrz"
      },
      "source": [
        "1. Для столбца tr_type датафрейма transactions посчитайте частоту встречаемости всех типов транзакций tr_type в transactions.\n",
        "2. Выведите топ-10 транзакций по частоте встречаемости (вывести для них tr_description тоже)."
      ]
    },
    {
      "cell_type": "code",
      "source": [
        "count=transactions['tr_type'].value_counts()\n",
        "count=count.reset_index()\n",
        "count.columns=['tr_type', 'count']\n",
        "print(count)"
      ],
      "metadata": {
        "colab": {
          "base_uri": "https://localhost:8080/"
        },
        "id": "i08emZaDMa31",
        "outputId": "15af5fb2-ee97-448e-c652-376ebea48f84"
      },
      "execution_count": null,
      "outputs": [
        {
          "output_type": "stream",
          "name": "stdout",
          "text": [
            "    tr_type   count\n",
            "0      1010  231117\n",
            "1      2010  151166\n",
            "2      7070  149006\n",
            "3      1110  137658\n",
            "4      1030  118975\n",
            "..      ...     ...\n",
            "67     2446       4\n",
            "68     4096       4\n",
            "69     8146       3\n",
            "70     1510       2\n",
            "71     8100       2\n",
            "\n",
            "[72 rows x 2 columns]\n"
          ]
        }
      ]
    },
    {
      "cell_type": "code",
      "source": [
        "top_count = count.head(10)\n",
        "result_transaction = tr_types[tr_types['tr_type'].isin(top_count.tr_type)]\n",
        "\n",
        "print(result_transaction)"
      ],
      "metadata": {
        "colab": {
          "base_uri": "https://localhost:8080/"
        },
        "id": "LH5JyudkM2b1",
        "outputId": "43d7ff76-9341-4ae3-d735-36854a7311d6"
      },
      "execution_count": null,
      "outputs": [
        {
          "output_type": "stream",
          "name": "stdout",
          "text": [
            "     tr_type                                     tr_description\n",
            "39      7010       Взнос наличных через АТМ (в своем тер.банке)\n",
            "47      7030  Перевод на карту (с карты) через АТМ (в предел...\n",
            "59      7070  Перевод на карту (с карты) через Мобильный бан...\n",
            "60      7071  Перевод на карту (с карты) через Мобильный бан...\n",
            "98      1010                              Покупка. POS ТУ СБ РФ\n",
            "99      1030                     Оплата услуги. Банкоматы СБ РФ\n",
            "100     1100                                Покупка. ТУ  Россия\n",
            "101     1110                             Покупка. POS ТУ Россия\n",
            "106     2010              Выдача наличных в АТМ Сбербанк России\n",
            "129     2370  Списание с карты на карту по операции <перевод...\n"
          ]
        }
      ]
    },
    {
      "cell_type": "markdown",
      "metadata": {
        "id": "mktm_JeA8JeX"
      },
      "source": [
        "## Задание 3\n",
        "1. В датафрейме transactions найдите клиента с максимальной суммой приходов на карту\n",
        "2. В датафрейме transactions найдите клиента с максимальной суммой расходов по карте\n",
        "3. Найдите модуль разницы для этих клиентов между суммой расходов и суммой приходов"
      ]
    },
    {
      "cell_type": "code",
      "source": [
        "earned_money = transactions[transactions.amount > 0]\n",
        "spent_money = transactions[transactions.amount < 0]\n",
        "\n",
        "earned_sum = earned_money.groupby('customer_id')['amount'].sum()\n",
        "max_earned_amount = earned_sum.max()\n",
        "\n",
        "spent_sum = spent_money.groupby('customer_id')['amount'].sum()\n",
        "max_spent_amount = spent_sum.min()\n",
        "\n",
        "max_earned_customer = earned_sum.idxmax()\n",
        "max_spent_customer = spent_sum.idxmin()\n",
        "\n",
        "print(\"max_earned_amount:\",max_earned_amount,\"max_spent_amount:\",max_spent_amount)\n",
        "print(\"difference:\", abs(max_earned_amount-max_spent_amount))\n",
        "print(\"max_earned_customer:\",max_earned_customer,\"max_spent_customer:\",max_spent_customer)"
      ],
      "metadata": {
        "colab": {
          "base_uri": "https://localhost:8080/"
        },
        "id": "t3sp8_4Mx6H8",
        "outputId": "5936bccb-020f-42a3-a64d-d46e298e85fe"
      },
      "execution_count": null,
      "outputs": [
        {
          "output_type": "stream",
          "name": "stdout",
          "text": [
            "max_earned_amount: 1248114886.81 max_spent_amount: -1249952204.79\n",
            "difference: 2498067091.6\n",
            "max_earned_customer: 70780820 max_spent_customer: 70780820\n"
          ]
        }
      ]
    },
    {
      "cell_type": "markdown",
      "metadata": {
        "id": "BYrJ5b_E8Jee"
      },
      "source": [
        "## Задание 4\n",
        "1. Найдите среднее арифметическое и медиану по amount по всем типам транзакций из топ 10 из задания 2\n",
        "1. Найдите среднее арифметическое и медиану по amount по всем типам транзакций для клиентов из задания 3"
      ]
    },
    {
      "cell_type": "code",
      "source": [
        "top_transactions = transactions[transactions['tr_type'].isin(top_count['tr_type'])]\n",
        "mean_median = top_transactions.groupby('tr_type')['amount'].agg(['mean','median'])\n",
        "\n",
        "print(mean_median)"
      ],
      "metadata": {
        "colab": {
          "base_uri": "https://localhost:8080/"
        },
        "id": "FTPuVGpYBhNJ",
        "outputId": "65d35328-9dcb-4350-eb31-b85ab0fd376a"
      },
      "execution_count": null,
      "outputs": [
        {
          "output_type": "stream",
          "name": "stdout",
          "text": [
            "                  mean     median\n",
            "tr_type                          \n",
            "1010     -19784.748640   -7411.52\n",
            "1030      -5320.980222   -2245.92\n",
            "1100     -44061.827262  -10188.26\n",
            "1110     -32119.330371  -11207.57\n",
            "2010    -136077.629325  -44918.32\n",
            "2370    -205418.249032  -44918.32\n",
            "7010     276391.789596  112295.79\n",
            "7030      86104.332909   13951.52\n",
            "7070      65569.831700   11319.42\n",
            "7071      66806.826623    3593.47\n"
          ]
        }
      ]
    },
    {
      "cell_type": "code",
      "source": [
        "transactions_1 = transactions[(transactions['customer_id']==max_earned_customer)]\n",
        "transactions_2 = transactions[(transactions['customer_id']==max_spent_customer)]\n",
        "\n",
        "mean_median_1 = transactions_1['amount'].agg(['mean','median'])\n",
        "mean_median_2 = transactions_2['amount'].agg(['mean','median'])\n",
        "\n",
        "print(mean_median_1)\n",
        "print(mean_median_2)"
      ],
      "metadata": {
        "colab": {
          "base_uri": "https://localhost:8080/"
        },
        "id": "hGP-wZujU0k6",
        "outputId": "7a2a60e4-e7b2-4c09-b792-b0fb2bfe86cf"
      },
      "execution_count": null,
      "outputs": [
        {
          "output_type": "stream",
          "name": "stdout",
          "text": [
            "mean       -20.694946\n",
            "median    8803.990000\n",
            "Name: amount, dtype: float64\n",
            "mean       -20.694946\n",
            "median    8803.990000\n",
            "Name: amount, dtype: float64\n"
          ]
        }
      ]
    },
    {
      "cell_type": "markdown",
      "metadata": {
        "id": "BYXwM4l3QDBu"
      },
      "source": [
        "## Подготовка для заданий 5-8"
      ]
    },
    {
      "cell_type": "markdown",
      "metadata": {
        "id": "XWQzFeKcQHRe"
      },
      "source": [
        "*Из заданий 5-8 нужно выполнить минимум два любых*\n",
        "\n",
        "Соедините transactions с всеми остальными таблицами (tr_mcc_codes, tr_types, gender_train). Причём с gender_train необходимо смёрджиться с помощью left join, а с оставшимися датафреймами - через inner.\n",
        "После получения результата таблицы gender_train, tr_types, tr_mcc_codes можно удалить. В результате соединения датафреймов должно получиться 999584 строки."
      ]
    },
    {
      "cell_type": "code",
      "metadata": {
        "id": "sndJxjJ7QQf5",
        "colab": {
          "base_uri": "https://localhost:8080/"
        },
        "outputId": "7695d2c8-184d-4799-ce6a-8e60c51e3e8b"
      },
      "source": [
        "transactions = pd.merge(transactions, gender_train, how='left')\n",
        "transactions = pd.merge(transactions, tr_mcc_codes, how='inner')\n",
        "transactions = pd.merge(transactions, tr_types, how='inner')\n",
        "transactions.shape"
      ],
      "execution_count": null,
      "outputs": [
        {
          "output_type": "execute_result",
          "data": {
            "text/plain": [
              "(999584, 9)"
            ]
          },
          "metadata": {},
          "execution_count": 10
        }
      ]
    },
    {
      "cell_type": "markdown",
      "metadata": {
        "id": "8vrFauJ8QgmT"
      },
      "source": [
        "## Задание 5"
      ]
    },
    {
      "cell_type": "markdown",
      "metadata": {
        "id": "rOjEQ5xyQfE_"
      },
      "source": [
        "1. Определите модуль разницы между средними тратами женщин и мужчин (трата - отрицательное значение amount).\n",
        "2. Определите модуль разницы между средними поступлениями у мужчин и женщин\n",
        "\n",
        "Обратите внимание, что для вычисления модуля разности точных знаний о том,\n",
        "какой класc относится к мужчинам, а какой - к женщинам, не требуется."
      ]
    },
    {
      "cell_type": "code",
      "source": [
        "spent_money = transactions[transactions['amount'] < 0]\n",
        "average_man = spent_money[spent_money['gender'] == 1]['amount'].mean()\n",
        "average_women = spent_money[spent_money['gender'] == 0]['amount'].mean()\n",
        "difference = abs(average_man - average_women)\n",
        "print(difference)"
      ],
      "metadata": {
        "colab": {
          "base_uri": "https://localhost:8080/"
        },
        "id": "t183LhtOqN1x",
        "outputId": "a1980a1b-228f-4948-b7b1-63fbc49310f8"
      },
      "execution_count": null,
      "outputs": [
        {
          "output_type": "stream",
          "name": "stdout",
          "text": [
            "32718.05492022467\n"
          ]
        }
      ]
    },
    {
      "cell_type": "code",
      "source": [
        "earn_money = transactions[transactions['amount'] > 0]\n",
        "average_man = earn_money[earn_money['gender'] == 1]['amount'].mean()\n",
        "average_women = earn_money[earn_money['gender'] == 0]['amount'].mean()\n",
        "difference = abs(average_man - average_women)\n",
        "print(difference)"
      ],
      "metadata": {
        "colab": {
          "base_uri": "https://localhost:8080/"
        },
        "id": "hdPNQXY_qP9J",
        "outputId": "43933c5e-2f46-4ed1-e9d6-9136433c0241"
      },
      "execution_count": null,
      "outputs": [
        {
          "output_type": "stream",
          "name": "stdout",
          "text": [
            "63366.57104801465\n"
          ]
        }
      ]
    },
    {
      "cell_type": "markdown",
      "metadata": {
        "id": "DSHFLbepQ7G1"
      },
      "source": [
        "## Задание 6"
      ]
    },
    {
      "cell_type": "markdown",
      "metadata": {
        "id": "2EF1490bQ-17"
      },
      "source": [
        "1. По всем типам транзакций рассчитайте максимальную сумму прихода на карту (из строго положительных сумм по столбцу amount) отдельно для мужчин и женщин (назовите ее \"max_income\"). Оставьте по 10 типов транзакций для мужчин и для женщин, наименьших среди всех типов транзакций по полученным значениям \"max_income\".\n",
        "2. Выделите среди них те типы транзакций, которые встречаются одновременно и у мужчин, и у женщин"
      ]
    },
    {
      "cell_type": "code",
      "source": [
        "earn_money = transactions[transactions['amount'] > 0]\n",
        "\n",
        "max_income = earn_money.groupby(['tr_type', 'gender'])['amount'].max()\n",
        "\n",
        "max_income_men = max_income.loc[:, 1]\n",
        "max_income_women = max_income.loc[:, 0]\n",
        "\n",
        "men_transactions = max_income_men.nsmallest(10)\n",
        "women_transactions = max_income_women.nsmallest(10)\n",
        "\n",
        "print(\"men_transactions:\")\n",
        "print(men_transactions)\n",
        "\n",
        "print(\"women_transactions:\")\n",
        "print(women_transactions)"
      ],
      "metadata": {
        "colab": {
          "base_uri": "https://localhost:8080/"
        },
        "id": "VPDqqXdC6HEs",
        "outputId": "32f8b960-49d1-4c74-b74e-120cbeff4f08"
      },
      "execution_count": null,
      "outputs": [
        {
          "output_type": "stream",
          "name": "stdout",
          "text": [
            "men_transactions:\n",
            "tr_type\n",
            "2020      2245.92\n",
            "4110      2245.92\n",
            "1010     28803.87\n",
            "8100     64682.37\n",
            "6000     79280.83\n",
            "7041     87590.72\n",
            "2010     89836.63\n",
            "2110    112295.79\n",
            "2370    113194.15\n",
            "7015    121279.45\n",
            "Name: amount, dtype: float64\n",
            "women_transactions:\n",
            "tr_type\n",
            "4051     1122.96\n",
            "4110     2245.92\n",
            "4210     2245.92\n",
            "2370     2335.75\n",
            "4100     5041.86\n",
            "7075     6737.75\n",
            "2110    22459.16\n",
            "1010    24839.83\n",
            "2010    44918.32\n",
            "2210    68315.82\n",
            "Name: amount, dtype: float64\n"
          ]
        }
      ]
    },
    {
      "cell_type": "code",
      "source": [
        "intersection = pd.merge(men_transactions,women_transactions, on='tr_type', how='inner')\n",
        "print(intersection)"
      ],
      "metadata": {
        "colab": {
          "base_uri": "https://localhost:8080/"
        },
        "id": "8Dwf6WTW-dZH",
        "outputId": "4a3d1a76-6cc1-463b-8bfa-67d60244d15b"
      },
      "execution_count": null,
      "outputs": [
        {
          "output_type": "stream",
          "name": "stdout",
          "text": [
            "          amount_x  amount_y\n",
            "tr_type                     \n",
            "4110       2245.92   2245.92\n",
            "1010      28803.87  24839.83\n",
            "2010      89836.63  44918.32\n",
            "2110     112295.79  22459.16\n",
            "2370     113194.15   2335.75\n"
          ]
        }
      ]
    },
    {
      "cell_type": "markdown",
      "metadata": {
        "id": "W-LaVwRdR3UB"
      },
      "source": [
        "## Задание 7"
      ]
    },
    {
      "cell_type": "markdown",
      "metadata": {
        "id": "rhI4NOciR7e0"
      },
      "source": [
        "1. Найдите суммы затрат по каждой категории (mcc) для мужчин и для женщин.\n",
        "2. Найдите топ 10 категорий с самыми большими относительными модулями разности в тратах для разных полов (в ответе должны присутствовать описания mcc кодов)."
      ]
    },
    {
      "cell_type": "code",
      "source": [
        "spent_money= transactions[transactions['amount']<0]\n",
        "spent_mcc=spent_money.groupby(['mcc_code', 'gender'])['amount'].sum()\n",
        "print(spent_mcc)"
      ],
      "metadata": {
        "colab": {
          "base_uri": "https://localhost:8080/"
        },
        "id": "0PdXUW102dlx",
        "outputId": "1eaf1811-d1de-4d2e-ffc3-5d0210bb0dc8"
      },
      "execution_count": null,
      "outputs": [
        {
          "output_type": "stream",
          "name": "stdout",
          "text": [
            "mcc_code  gender\n",
            "742       0.0       -386207.68\n",
            "          1.0       -132277.93\n",
            "1711      0.0       -674897.69\n",
            "          1.0       -206264.90\n",
            "1731      1.0       -121542.67\n",
            "                       ...    \n",
            "9311      0.0       -406197.45\n",
            "          1.0       -373271.22\n",
            "9399      0.0      -1481389.65\n",
            "          1.0      -1810820.67\n",
            "9402      1.0         -4581.67\n",
            "Name: amount, Length: 349, dtype: float64\n"
          ]
        }
      ]
    },
    {
      "cell_type": "code",
      "source": [
        "spent_money = spent_money.reset_index()\n",
        "\n",
        "spent_money['difference'] = spent_money.groupby(['mcc_code'])['amount'].diff().abs()\n",
        "\n",
        "categories = spent_money.groupby('mcc_code')['difference'].max()\n",
        "categories = categories.nlargest(10).reset_index()\n",
        "\n",
        "res = tr_mcc_codes[tr_mcc_codes['mcc_code'].isin(categories.mcc_code)]\n",
        "print(res)"
      ],
      "metadata": {
        "colab": {
          "base_uri": "https://localhost:8080/"
        },
        "id": "b-YNxolmXgDU",
        "outputId": "bc68741c-ca9b-4677-eb99-448cb2901827"
      },
      "execution_count": null,
      "outputs": [
        {
          "output_type": "stream",
          "name": "stdout",
          "text": [
            "     mcc_code                                    mcc_description\n",
            "22       4829                                  Денежные переводы\n",
            "53       5311                                         Универмаги\n",
            "62       5511  Легковой и грузовой транспорт — продажа, серви...\n",
            "64       5533                          Автозапчасти и аксессуары\n",
            "73       5651                              Одежда для всей семьи\n",
            "80       5712  Оборудование, мебель и бытовые принадлежности ...\n",
            "101      5944  Магазины по продаже часов, ювелирных изделий и...\n",
            "103      5946           Магазины фотооборудования и фотоприборов\n",
            "123      6010   Финансовые институты — снятие наличности вручную\n",
            "131      7011   Отели, мотели, базы отдыха, сервисы бронирования\n"
          ]
        }
      ]
    },
    {
      "cell_type": "markdown",
      "metadata": {
        "id": "aGaPkQkVSvl8"
      },
      "source": [
        "## Задание 8"
      ]
    },
    {
      "cell_type": "markdown",
      "metadata": {
        "id": "T7Ox1qAXTHQl"
      },
      "source": [
        "1. Из поля tr_datetime выделите час tr_hour, в который произошла транзакция, как первые 2 цифры до \":\". (\\**)\n",
        "2. Посчитайте количество транзакций с amount<0 в ночное время для мужчин и женщин. Ночное время - это примерно 00-06 часов."
      ]
    },
    {
      "cell_type": "code",
      "source": [
        "transactions['tr_hour'] = transactions['tr_datetime'].str.extract(r' (\\d{2}):')\n",
        "tr_hour = pd.DataFrame({'tr_hour': transactions['tr_hour']})\n",
        "\n",
        "print(tr_hour)"
      ],
      "metadata": {
        "colab": {
          "base_uri": "https://localhost:8080/"
        },
        "id": "xWrMSNVDzNp_",
        "outputId": "ac4e9650-5167-45cf-e6ce-c324fc68a266"
      },
      "execution_count": null,
      "outputs": [
        {
          "output_type": "stream",
          "name": "stdout",
          "text": [
            "       tr_hour\n",
            "0           10\n",
            "1           07\n",
            "2           07\n",
            "3           08\n",
            "4           14\n",
            "...        ...\n",
            "999579      23\n",
            "999580      19\n",
            "999581      22\n",
            "999582      23\n",
            "999583      23\n",
            "\n",
            "[999584 rows x 1 columns]\n"
          ]
        }
      ]
    },
    {
      "cell_type": "code",
      "source": [
        "transactions['tr_hour'] = transactions['tr_hour'].astype(int)\n",
        "\n",
        "transaction_man = transactions[(transactions['amount'] < 0) & (transactions['tr_hour'] >= 0) & (transactions['tr_hour'] < 6) & (transactions['gender'] == 1)]\n",
        "transaction_women = transactions[(transactions['amount'] < 0) & (transactions['tr_hour'] >= 0) & (transactions['tr_hour'] < 6) & (transactions['gender'] == 0)]\n",
        "\n",
        "count_transactions_man = len(transaction_man)\n",
        "count_transactions_women = len(transaction_women)\n",
        "\n",
        "print(\"count_transactions_man:\",count_transactions_man)\n",
        "print(\"count_transactions_women:\",count_transactions_women)\n"
      ],
      "metadata": {
        "colab": {
          "base_uri": "https://localhost:8080/"
        },
        "id": "LoDN9NnjFmJh",
        "outputId": "62ce84bd-a029-46a6-df47-9b1838f8141b"
      },
      "execution_count": null,
      "outputs": [
        {
          "output_type": "stream",
          "name": "stdout",
          "text": [
            "count_transactions_man: 43017\n",
            "count_transactions_women: 38827\n"
          ]
        }
      ]
    }
  ]
}