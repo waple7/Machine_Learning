{
  "cells": [
    {
      "cell_type": "markdown",
      "metadata": {
        "id": "131T1pm5PaF4"
      },
      "source": [
        "Перед началом выполнения, сделайте копию этого colab'а. Чтобы сделать копию нужно в пункте меню Файл выбрать \"Сохранить копию на диске\""
      ]
    },
    {
      "cell_type": "markdown",
      "metadata": {
        "id": "BsNwjQDRfmLY"
      },
      "source": [
        "# Задание 1"
      ]
    },
    {
      "cell_type": "markdown",
      "metadata": {
        "id": "wu6r1-s7fmLe"
      },
      "source": [
        "---"
      ]
    },
    {
      "cell_type": "markdown",
      "metadata": {
        "id": "zxRIdPO9gYyX"
      },
      "source": [
        "Напишите функцию linan(), которая будет решать систему линейных уравнений вида:\n",
        "\n",
        "\\begin{matrix} a_{11}x+a_{12}y=b_{1}&(1) \\\\ a_{21}x+a_{22}y=b_{2} &(2) \\end{matrix}\n",
        "​\n",
        "На вход программа должна принимать 2 строки.\n",
        "\n",
        "Каждая строка содержит 3 действительных числа через пробел: коэффициенты a и b.\n",
        "\n",
        "На выходе программа должна выдавать значения x и y в одну строку через пробел.\n",
        "\n",
        "\n",
        "Примечание 1. Для разделения строки на отдельные элементы используйте функцию split()\n",
        "\n",
        "Примечание 2. В качестве разделителя между целой и дробной частью используйте точку, например 0.2"
      ]
    },
    {
      "cell_type": "code",
      "execution_count": null,
      "metadata": {
        "colab": {
          "base_uri": "https://localhost:8080/"
        },
        "id": "6sxlcLbVlrjl",
        "outputId": "c555cf32-7516-47f2-b3d4-45ad9ab41761"
      },
      "outputs": [
        {
          "name": "stdout",
          "output_type": "stream",
          "text": [
            "(0.6153846153846154, 0.038461538461538464)\n"
          ]
        }
      ],
      "source": [
        "import numpy as np\n",
        "\n",
        "def linan(ab1, ab2):\n",
        "    a11, a12, b1 = map(float, ab1.split())\n",
        "    a21, a22, b2 = map(float, ab2.split())\n",
        "\n",
        "    A = np.array([[a11, a12], [a21, a22]])\n",
        "    B = np.array([b1, b2])\n",
        "\n",
        "    x, y = np.linalg.solve(A, B)\n",
        "    return x,y\n",
        "\n",
        "ab1 = \"8.0 2.0 5.0\"\n",
        "ab2 = \"3.0 4.0 2.0\"\n",
        "print(linan(ab1, ab2))\n"
      ]
    },
    {
      "cell_type": "markdown",
      "metadata": {
        "id": "GB73yQZVYyMd"
      },
      "source": []
    },
    {
      "cell_type": "markdown",
      "metadata": {
        "id": "wLoVDMQnfmOv"
      },
      "source": [
        "# Задание 2"
      ]
    },
    {
      "cell_type": "markdown",
      "metadata": {
        "id": "6bmt_YF3fmOw"
      },
      "source": [
        "Напишите функцию `decorate_matrix`, которая получает на вход одно целое число больше единицы. Функция должна возвращать матрицу n на n, у которой на границах стоят единицы, а на всех остальных позициях(если остались позиции не на границах) стоят нули.\n",
        "\n",
        "Нужно сделать без использования  циклов.\n",
        "\n",
        "```\n",
        "# ожидаемый результат для аргумента 5\n",
        "array([[1., 1., 1., 1., 1.],\n",
        "[1., 0., 0., 0., 1.],\n",
        "[1., 0., 0., 0., 1.],\n",
        "[1., 0., 0., 0., 1.],\n",
        "[1., 1., 1., 1., 1.]])\n",
        "```\n",
        "\n"
      ]
    },
    {
      "cell_type": "code",
      "execution_count": null,
      "metadata": {
        "colab": {
          "base_uri": "https://localhost:8080/"
        },
        "id": "e5RHke-Gchwu",
        "outputId": "d5c91d52-2534-4b54-a73f-d6e0ff78d9a2"
      },
      "outputs": [
        {
          "output_type": "stream",
          "name": "stdout",
          "text": [
            "[[1. 1. 1. 1. 1.]\n",
            " [1. 0. 0. 0. 1.]\n",
            " [1. 0. 0. 0. 1.]\n",
            " [1. 0. 0. 0. 1.]\n",
            " [1. 1. 1. 1. 1.]]\n"
          ]
        }
      ],
      "source": [
        "import numpy as np\n",
        "\n",
        "def matrix(n):\n",
        "    if n <= 1:\n",
        "        print(\"error\")\n",
        "\n",
        "    matrix = np.ones((n, n))\n",
        "    matrix[1:n-1,1:n-1]=0\n",
        "\n",
        "    return matrix\n",
        "\n",
        "n = 5\n",
        "print(matrix(n))"
      ]
    },
    {
      "cell_type": "markdown",
      "metadata": {
        "id": "FjeIqKk-bhc0"
      },
      "source": [
        "Обратите внимание, что ожидается массив numpy"
      ]
    },
    {
      "cell_type": "markdown",
      "metadata": {
        "id": "75sxny1zSCbl"
      },
      "source": [
        "# Задание 3"
      ]
    },
    {
      "cell_type": "markdown",
      "metadata": {
        "id": "2Xq1tBBAS5UJ"
      },
      "source": [
        "1) реализуйте 2 функции:\n",
        "\n",
        "$f(x) = (x+a)^2 - b$\n",
        "\n",
        "$g(x) = |f(x)|$\n",
        "\n",
        "2) Найдите аргументы, при которых достигается минимум функций $f(x)$ и $g(x)$\n",
        "\n",
        "Пример.\n",
        "Входные значение: $a=3$ и $b=4$\n",
        "\n",
        "Выходные значения:\n",
        "\n",
        "`-3.0 -1.0`"
      ]
    },
    {
      "cell_type": "code",
      "execution_count": null,
      "metadata": {
        "colab": {
          "base_uri": "https://localhost:8080/"
        },
        "id": "jJUu9PirlfRw",
        "outputId": "756e96f0-c79a-4750-9a0c-60ae7f4b5126"
      },
      "outputs": [
        {
          "output_type": "stream",
          "name": "stdout",
          "text": [
            "[-2.99999998] [-1.] [-5.]\n"
          ]
        }
      ],
      "source": [
        "from scipy.optimize import minimize\n",
        "\n",
        "def f(x, a, b):\n",
        "    return (x + a)**2 - b\n",
        "\n",
        "def g(x, a, b):\n",
        "    return abs(f(x, a, b))\n",
        "\n",
        "a = 3\n",
        "b = 4\n",
        "\n",
        "min_f = minimize(f, 0, args=(a, b))\n",
        "\n",
        "min_g1 = minimize(g, -a + math.sqrt(b), args=(a, b))\n",
        "min_g2 = minimize(g, -a - math.sqrt(b), args=(a, b))\n",
        "\n",
        "print(min_f.x, min_g1.x,min_g2.x)\n"
      ]
    },
    {
      "cell_type": "markdown",
      "metadata": {
        "id": "efml9GzISC9Q"
      },
      "source": [
        "# Задание 4"
      ]
    },
    {
      "cell_type": "markdown",
      "metadata": {
        "id": "SDZvKcsTVbAW"
      },
      "source": [
        "Постройте графики для функций из предыдущего задания и отметьте другим цветом на графиках точки найденных минимумов."
      ]
    },
    {
      "cell_type": "code",
      "execution_count": null,
      "metadata": {
        "colab": {
          "base_uri": "https://localhost:8080/",
          "height": 448
        },
        "id": "g423jQSvx90b",
        "outputId": "b922fa9c-1227-42fa-ebbf-431c829bc67c"
      },
      "outputs": [
        {
          "output_type": "execute_result",
          "data": {
            "text/plain": [
              "<matplotlib.legend.Legend at 0x7abe919084f0>"
            ]
          },
          "metadata": {},
          "execution_count": 26
        },
        {
          "output_type": "display_data",
          "data": {
            "text/plain": [
              "<Figure size 640x480 with 1 Axes>"
            ],
            "image/png": "[encoded data removed]"
          },
          "metadata": {}
        }
      ],
      "source": [
        "import numpy as np\n",
        "import matplotlib.pyplot as plt\n",
        "\n",
        "x = np.linspace(-15, 15, 500)\n",
        "\n",
        "plt.plot(x, f(x, a, b), label='f(x)')\n",
        "plt.plot(x, g(x, a, b), label='g(x)')\n",
        "\n",
        "plt.scatter(min_f.x, f(min_f.x, a, b), color='black', label='min_f')\n",
        "plt.scatter(min_g1.x, f(min_g1.x, a, b), color='red', label='min_g1')\n",
        "plt.scatter(min_g2.x, f(min_g2.x, a, b), color='red', label='min_g2')\n",
        "\n",
        "plt.legend()"
      ]
    },
    {
      "cell_type": "markdown",
      "metadata": {
        "id": "mrby3EfiSDKJ"
      },
      "source": [
        "# Задание 5"
      ]
    },
    {
      "cell_type": "markdown",
      "metadata": {
        "id": "J6AZ8785VkQd"
      },
      "source": [
        "1000 человек бросают монетку. Каждый бросил 10 раз подряд.\n",
        "\n",
        " 1. Какова вероятность того, что хотя бы у одного человека монетка выпала 10 раз подряд той же самой стороной (орлом или решкой)?\n",
        " 2. Какова вероятность того, что хотя бы у одного человека монетка выпала 8 раз подряд той же самой стороной (орлом или решкой)?\n",
        " 3. Какова вероятность того, что ровно у троих человек из 1000 монетка выпала 10 раз подряд той же самой стороной (орлом или решкой)?"
      ]
    },
    {
      "cell_type": "code",
      "execution_count": null,
      "metadata": {
        "colab": {
          "base_uri": "https://localhost:8080/"
        },
        "id": "wbxjwrXTDsDo",
        "outputId": "982bfb50-58d2-4407-e054-ec9bbd77d9fd"
      },
      "outputs": [
        {
          "output_type": "stream",
          "name": "stdout",
          "text": [
            "0.858440454732242\n"
          ]
        }
      ],
      "source": [
        "def chance():\n",
        "    p = 1 / (2 ** 10)*2\n",
        "    q = 1 - p\n",
        "    not_success = q ** 1000\n",
        "    success = 1 - not_success\n",
        "    return success\n",
        "\n",
        "print(chance())\n"
      ]
    },
    {
      "cell_type": "code",
      "execution_count": null,
      "metadata": {
        "colab": {
          "base_uri": "https://localhost:8080/"
        },
        "id": "qPy9O_77DyFV",
        "outputId": "0c47c6eb-a81d-45a7-d321-32abfe54a9c4"
      },
      "outputs": [
        {
          "output_type": "stream",
          "name": "stdout",
          "text": [
            "0.9996075798421896\n"
          ]
        }
      ],
      "source": [
        "def chance():\n",
        "    p = 1 / (2 ** 8)*2\n",
        "    q = 1 - p\n",
        "    not_success = q ** 1000\n",
        "    success = 1 - not_success\n",
        "    return success\n",
        "\n",
        "print(chance())\n"
      ]
    },
    {
      "cell_type": "code",
      "execution_count": null,
      "metadata": {
        "colab": {
          "base_uri": "https://localhost:8080/"
        },
        "id": "7wLekADCEzWn",
        "outputId": "a6a5882b-2047-419f-bf61-ecd8d9a5c44c"
      },
      "outputs": [
        {
          "output_type": "stream",
          "name": "stdout",
          "text": [
            "0.1762873858121736\n"
          ]
        }
      ],
      "source": [
        "import math\n",
        "\n",
        "n=1000\n",
        "k=3\n",
        "p1_chance = (0.5)**10*2\n",
        "p3_chance = math.factorial(n) // (math.factorial(k) * math.factorial(n - k)) * (p1_chance**k) * ((1 - p1_chance)**(1000 - k))\n",
        "\n",
        "print(p3_chance)\n"
      ]
    }
  ],
  "metadata": {
    "colab": {
      "provenance": []
    },
    "kernelspec": {
      "display_name": "Python 3",
      "language": "python",
      "name": "python3"
    },
    "language_info": {
      "codemirror_mode": {
        "name": "ipython",
        "version": 3
      },
      "file_extension": ".py",
      "mimetype": "text/x-python",
      "name": "python",
      "nbconvert_exporter": "python",
      "pygments_lexer": "ipython3",
      "version": "3.7.4"
    }
  },
  "nbformat": 4,
  "nbformat_minor": 0
}