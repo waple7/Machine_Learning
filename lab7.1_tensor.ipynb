{
  "nbformat": 4,
  "nbformat_minor": 0,
  "metadata": {
    "colab": {
      "provenance": [],
      "gpuType": "T4"
    },
    "kernelspec": {
      "display_name": "Python 3",
      "name": "python3"
    },
    "language_info": {
      "codemirror_mode": {
        "name": "ipython",
        "version": 3
      },
      "file_extension": ".py",
      "mimetype": "text/x-python",
      "name": "python",
      "nbconvert_exporter": "python",
      "pygments_lexer": "ipython3",
      "version": "3.6.5"
    },
    "accelerator": "GPU"
  },
  "cells": [
    {
      "cell_type": "markdown",
      "metadata": {
        "id": "vcnGdgw_YJ8u"
      },
      "source": [
        "# PyTorch. Основы: синтаксис, torch.cuda и torch.autograd\n",
        "\n",
        "## Задание 7.1"
      ]
    },
    {
      "cell_type": "code",
      "metadata": {
        "id": "RtyozNmmYJ89"
      },
      "source": [
        "import torch\n",
        "import matplotlib.pyplot as plt"
      ],
      "execution_count": null,
      "outputs": []
    },
    {
      "cell_type": "markdown",
      "metadata": {
        "id": "ny4-Qi2wYJ-6"
      },
      "source": [
        "### Задача 1"
      ]
    },
    {
      "cell_type": "markdown",
      "metadata": {
        "id": "IWxlFq0bYJ-_"
      },
      "source": [
        "1). Создайте два вещественных тензора: `a` размером (3, 4) и `b` размером (12,)   \n",
        "2). Создайте тензор `c`, являющийся тензором `b`, но размера (2, 2, 3)  \n",
        "3). Выведите первый столбец матрицы `a` с помощью индексации"
      ]
    },
    {
      "cell_type": "code",
      "metadata": {
        "id": "3oxZuk3yYJ_A",
        "colab": {
          "base_uri": "https://localhost:8080/"
        },
        "outputId": "8e2076a6-e19e-4acc-9c71-b71b0281e3c3"
      },
      "source": [
        "a = torch.rand((3, 4))\n",
        "b = torch.rand(12)\n",
        "\n",
        "print(a)\n",
        "print(b)"
      ],
      "execution_count": null,
      "outputs": [
        {
          "output_type": "stream",
          "name": "stdout",
          "text": [
            "tensor([[0.5256, 0.3991, 0.3865, 0.3637],\n",
            "        [0.2019, 0.5083, 0.1036, 0.8715],\n",
            "        [0.3537, 0.0748, 0.1898, 0.3732]])\n",
            "tensor([0.9906, 0.5454, 0.7304, 0.4152, 0.3311, 0.8779, 0.3578, 0.2575, 0.1706,\n",
            "        0.0683, 0.5466, 0.7288])\n"
          ]
        }
      ]
    },
    {
      "cell_type": "code",
      "source": [
        "c = b.view(2, 2, 3)\n",
        "print(c)"
      ],
      "metadata": {
        "colab": {
          "base_uri": "https://localhost:8080/"
        },
        "id": "2VbAEY6Oy2l_",
        "outputId": "55f49fed-9b8b-42bd-fca3-c660b8c97946"
      },
      "execution_count": null,
      "outputs": [
        {
          "output_type": "stream",
          "name": "stdout",
          "text": [
            "tensor([[[0.9906, 0.5454, 0.7304],\n",
            "         [0.4152, 0.3311, 0.8779]],\n",
            "\n",
            "        [[0.3578, 0.2575, 0.1706],\n",
            "         [0.0683, 0.5466, 0.7288]]])\n"
          ]
        }
      ]
    },
    {
      "cell_type": "code",
      "source": [
        "result=a[:,0]\n",
        "print(result)"
      ],
      "metadata": {
        "colab": {
          "base_uri": "https://localhost:8080/"
        },
        "id": "S6ucdjqm0fhJ",
        "outputId": "64155b57-5c6c-4918-e683-e31a6a6335b3"
      },
      "execution_count": null,
      "outputs": [
        {
          "output_type": "stream",
          "name": "stdout",
          "text": [
            "tensor([0.5256, 0.2019, 0.3537])\n"
          ]
        }
      ]
    },
    {
      "cell_type": "markdown",
      "metadata": {
        "id": "D2IP_FrKYKAA"
      },
      "source": [
        "### Задача 2"
      ]
    },
    {
      "cell_type": "markdown",
      "metadata": {
        "id": "tBZFbSYQYKAA"
      },
      "source": [
        "1). Создайте два вещественных тензора: `a` размером (5, 2) и `b` размером (1,10)   \n",
        "2). Создайте тензор `c`, являющийся тензором `b`, но размера (5, 2)  \n",
        "3). Произведите все арифметические операции с тензорами `a` и `c`"
      ]
    },
    {
      "cell_type": "code",
      "metadata": {
        "id": "hzs2bH3GYKAB",
        "colab": {
          "base_uri": "https://localhost:8080/"
        },
        "outputId": "028db852-ec0e-4d54-f1da-eb8bf9bc7f3a"
      },
      "source": [
        "a = torch.rand((5, 2))\n",
        "b = torch.rand(1,10)\n",
        "\n",
        "print(a)\n",
        "print(b)"
      ],
      "execution_count": null,
      "outputs": [
        {
          "output_type": "stream",
          "name": "stdout",
          "text": [
            "tensor([[0.0162, 0.2741],\n",
            "        [0.2435, 0.3828],\n",
            "        [0.1051, 0.8874],\n",
            "        [0.1144, 0.6959],\n",
            "        [0.7942, 0.9711]])\n",
            "tensor([[0.8010, 0.7834, 0.3245, 0.3982, 0.7617, 0.7496, 0.0730, 0.4463, 0.4820,\n",
            "         0.2302]])\n"
          ]
        }
      ]
    },
    {
      "cell_type": "code",
      "source": [
        "c=b.view(5,2)\n",
        "print(c)"
      ],
      "metadata": {
        "colab": {
          "base_uri": "https://localhost:8080/"
        },
        "id": "diANYfZ91ZWV",
        "outputId": "c9424358-2c67-417c-d866-7baecb9a5931"
      },
      "execution_count": null,
      "outputs": [
        {
          "output_type": "stream",
          "name": "stdout",
          "text": [
            "tensor([[0.8010, 0.7834],\n",
            "        [0.3245, 0.3982],\n",
            "        [0.7617, 0.7496],\n",
            "        [0.0730, 0.4463],\n",
            "        [0.4820, 0.2302]])\n"
          ]
        }
      ]
    },
    {
      "cell_type": "code",
      "source": [
        "print(a.add(c))\n",
        "print(a.sub(c))\n",
        "print(a.mul(c))\n",
        "print(a.div(c))"
      ],
      "metadata": {
        "colab": {
          "base_uri": "https://localhost:8080/"
        },
        "id": "kIBKk_M51mWo",
        "outputId": "f8cb52fd-f3cd-435b-baf6-7c524f45f9ce"
      },
      "execution_count": null,
      "outputs": [
        {
          "output_type": "stream",
          "name": "stdout",
          "text": [
            "tensor([[0.8173, 1.0574],\n",
            "        [0.5680, 0.7810],\n",
            "        [0.8668, 1.6369],\n",
            "        [0.1874, 1.1422],\n",
            "        [1.2762, 1.2013]])\n",
            "tensor([[-0.7848, -0.5093],\n",
            "        [-0.0809, -0.0154],\n",
            "        [-0.6567,  0.1378],\n",
            "        [ 0.0414,  0.2496],\n",
            "        [ 0.3121,  0.7409]])\n",
            "tensor([[0.0130, 0.2147],\n",
            "        [0.0790, 0.1524],\n",
            "        [0.0800, 0.6651],\n",
            "        [0.0083, 0.3106],\n",
            "        [0.3828, 0.2235]])\n",
            "tensor([[0.0203, 0.3498],\n",
            "        [0.7505, 0.9613],\n",
            "        [0.1379, 1.1838],\n",
            "        [1.5664, 1.5593],\n",
            "        [1.6476, 4.2189]])\n"
          ]
        }
      ]
    },
    {
      "cell_type": "markdown",
      "metadata": {
        "id": "rIaroFO6YKBT"
      },
      "source": [
        "### Задача 3"
      ]
    },
    {
      "cell_type": "markdown",
      "metadata": {
        "id": "GfLHVvKvYKBT"
      },
      "source": [
        "1). Создайте тензор *целых чисел* `images` размерности (100, 200, 200, 3) (можно интерпретировать это как 100 картинок размера 200х200 с тремя цветовыми каналами, то есть 100 цветных изображений 200х200). Заполните его нулями  \n",
        "\n",
        "2). Сделайте так, чтобы у $i$-ой по порядку картинки была нарисована белая полоса толщиной два пикселя в строках, которые соответствуют номеру картинки. Например, у 3-ей по порядку картинки белая полоска будет занимать 6 и 7 строки, у 99 - 198 и 199. Сделать белую строку можно, записав в ячейки тензора число 255 (по всем трём каналам). Выведите несколько примеров с помощью `pylot`  \n",
        "\n",
        "3). Посчитайте среднее тензора `images` по 1-ой оси (по сути - средняя картинка), умножьте полученный тензор на 70. Нарисуйте с помощью `pyplot`, должна получиться серая картинка (при взятии среднего нужно привести тензор к float с помощью `.float()`, при отрисовке обратно к int с помощью `.int()`)"
      ]
    },
    {
      "cell_type": "code",
      "metadata": {
        "id": "pZVGHEQQYKBU",
        "colab": {
          "base_uri": "https://localhost:8080/",
          "height": 451
        },
        "outputId": "6557d44a-9ef0-4958-d4a1-e69794030bc3"
      },
      "source": [
        "images = torch.IntTensor(100, 200, 200, 3).zero_()\n",
        "\n",
        "for i in range(100):\n",
        "  images[i][2*i:2*i+2] = 255\n",
        "plt.imshow(images[50])"
      ],
      "execution_count": null,
      "outputs": [
        {
          "output_type": "execute_result",
          "data": {
            "text/plain": [
              "<matplotlib.image.AxesImage at 0x7c0a8ff3a7a0>"
            ]
          },
          "metadata": {},
          "execution_count": 5
        },
        {
          "output_type": "display_data",
          "data": {
            "text/plain": [
              "<Figure size 640x480 with 1 Axes>"
            ],
            "image/png": "[encoded data removed]"
          },
          "metadata": {}
        }
      ]
    },
    {
      "cell_type": "code",
      "source": [
        "plt.imshow(images[70])"
      ],
      "metadata": {
        "colab": {
          "base_uri": "https://localhost:8080/",
          "height": 451
        },
        "id": "gwDZWVtPSfXF",
        "outputId": "c16323f3-9927-4755-e2a9-8d32df10f93a"
      },
      "execution_count": null,
      "outputs": [
        {
          "output_type": "execute_result",
          "data": {
            "text/plain": [
              "<matplotlib.image.AxesImage at 0x7c0a8ffcc0d0>"
            ]
          },
          "metadata": {},
          "execution_count": 6
        },
        {
          "output_type": "display_data",
          "data": {
            "text/plain": [
              "<Figure size 640x480 with 1 Axes>"
            ],
            "image/png": "[encoded data removed]"
          },
          "metadata": {}
        }
      ]
    },
    {
      "cell_type": "code",
      "source": [
        "plt.imshow(images[90])"
      ],
      "metadata": {
        "colab": {
          "base_uri": "https://localhost:8080/",
          "height": 451
        },
        "id": "PJtbCSV-ShXe",
        "outputId": "15c06377-36eb-423d-a0bc-2597bcb6cab2"
      },
      "execution_count": null,
      "outputs": [
        {
          "output_type": "execute_result",
          "data": {
            "text/plain": [
              "<matplotlib.image.AxesImage at 0x7c0a8ff900d0>"
            ]
          },
          "metadata": {},
          "execution_count": 7
        },
        {
          "output_type": "display_data",
          "data": {
            "text/plain": [
              "<Figure size 640x480 with 1 Axes>"
            ],
            "image/png": "[encoded data removed]"
          },
          "metadata": {}
        }
      ]
    },
    {
      "cell_type": "code",
      "source": [
        "mean_image = torch.mean(images.float(), 0)\n",
        "result_image = mean_image * 70\n",
        "plt.imshow(result_image.int())"
      ],
      "metadata": {
        "colab": {
          "base_uri": "https://localhost:8080/",
          "height": 451
        },
        "id": "Vp9D155HSka9",
        "outputId": "c1f69f1c-c63c-4df8-f0f9-c49d0fed5e80"
      },
      "execution_count": null,
      "outputs": [
        {
          "output_type": "execute_result",
          "data": {
            "text/plain": [
              "<matplotlib.image.AxesImage at 0x7c0a8d0f5c00>"
            ]
          },
          "metadata": {},
          "execution_count": 8
        },
        {
          "output_type": "display_data",
          "data": {
            "text/plain": [
              "<Figure size 640x480 with 1 Axes>"
            ],
            "image/png": "[encoded data removed]"
          },
          "metadata": {}
        }
      ]
    },
    {
      "cell_type": "markdown",
      "metadata": {
        "id": "oQnhq5ZdYKCu"
      },
      "source": [
        "### Задача 4"
      ]
    },
    {
      "cell_type": "markdown",
      "metadata": {
        "id": "UB95BhgTYKCu"
      },
      "source": [
        "- В Colab нажмите в меню сверху: `Runtime` -> `Change Runtime Type` -> `GPU`, где изначально стоит `None` (`Среда выполнение` - `Сменить среду выполнения`)\n",
        "- Объявите тензор `a` размера (2, 3, 4) и тензор `b` размера (1, 8, 3) на GPU, иницилизируйте их случайно равномерно (`.uniform_()`)\n",
        "- Затем измените форму тензора `b`, чтобы она совпадала с формой тензора `a`, получите тензор `c`  \n",
        "- Переместите `c` на CPU, переместите `a` на CPU  \n",
        "- Оберните их в `Variable()`\n",
        "- Объявите тензор `L = torch.mean((c - a) `**` 2)` и посчитайте градиент `L` по `c` ( то есть $\\frac{\\partial{L}}{\\partial{c}})$\n",
        "- Выведите градиент `L` по `c`"
      ]
    },
    {
      "cell_type": "code",
      "metadata": {
        "id": "WESOm5TCYKCv",
        "colab": {
          "base_uri": "https://localhost:8080/"
        },
        "outputId": "3a4edb55-cd0b-48ee-8415-cce2d4c5eeec"
      },
      "source": [
        "a = torch.rand(2, 3, 4).uniform_().cuda()\n",
        "b = torch.rand(1, 8, 3).uniform_().cuda()\n",
        "a, b"
      ],
      "execution_count": null,
      "outputs": [
        {
          "output_type": "execute_result",
          "data": {
            "text/plain": [
              "(tensor([[[0.2312, 0.1325, 0.7046, 0.8475],\n",
              "          [0.4985, 0.9377, 0.0582, 0.1923],\n",
              "          [0.8224, 0.1341, 0.0796, 0.1417]],\n",
              " \n",
              "         [[0.1027, 0.2260, 0.4010, 0.2283],\n",
              "          [0.8403, 0.1124, 0.1191, 0.7504],\n",
              "          [0.0935, 0.2575, 0.2712, 0.1645]]], device='cuda:0'),\n",
              " tensor([[[0.3086, 0.1686, 0.2872],\n",
              "          [0.1636, 0.7938, 0.6892],\n",
              "          [0.3927, 0.4148, 0.5820],\n",
              "          [0.6509, 0.8948, 0.1546],\n",
              "          [0.1516, 0.0432, 0.8552],\n",
              "          [0.5855, 0.7089, 0.4186],\n",
              "          [0.8555, 0.1891, 0.1955],\n",
              "          [0.0536, 0.1692, 0.2159]]], device='cuda:0'))"
            ]
          },
          "metadata": {},
          "execution_count": 43
        }
      ]
    },
    {
      "cell_type": "code",
      "source": [
        "c = b.view(2, 3, 4)\n",
        "a = a.to('cpu')\n",
        "c = c.to('cpu')"
      ],
      "metadata": {
        "id": "afD14wkqVk6J"
      },
      "execution_count": null,
      "outputs": []
    },
    {
      "cell_type": "code",
      "source": [
        "a.requires_grad = True\n",
        "c.requires_grad = True"
      ],
      "metadata": {
        "id": "lZGRmGfkWZpC"
      },
      "execution_count": null,
      "outputs": []
    },
    {
      "cell_type": "code",
      "source": [
        "L = torch.mean((c - a)**2)\n",
        "L.backward()\n",
        "print(c.grad)"
      ],
      "metadata": {
        "colab": {
          "base_uri": "https://localhost:8080/"
        },
        "id": "mLX36W4FW7tU",
        "outputId": "70e88c75-a45e-4d7f-b5f2-1c9661b4e5e0"
      },
      "execution_count": null,
      "outputs": [
        {
          "output_type": "stream",
          "name": "stdout",
          "text": [
            "tensor([[[ 0.0064,  0.0030, -0.0348, -0.0570],\n",
            "         [ 0.0246, -0.0207,  0.0279,  0.0185],\n",
            "         [-0.0200,  0.0431,  0.0679,  0.0011]],\n",
            "\n",
            "        [[ 0.0041, -0.0152,  0.0379,  0.0298],\n",
            "         [-0.0110,  0.0255,  0.0614, -0.0468],\n",
            "         [ 0.0085, -0.0170, -0.0085,  0.0043]]])\n"
          ]
        }
      ]
    }
  ]
}